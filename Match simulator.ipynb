{
 "cells": [
  {
   "cell_type": "code",
   "execution_count": 1,
   "id": "a7a31144",
   "metadata": {},
   "outputs": [],
   "source": [
    "import random"
   ]
  },
  {
   "cell_type": "code",
   "execution_count": 2,
   "id": "cce37f91",
   "metadata": {},
   "outputs": [],
   "source": [
    "def calculateWinner(home, away):\n",
    "    HomeGoals = 0\n",
    "    AwayGoals = 0\n",
    "    \n",
    "    def testShots(shots):\n",
    "        Goals = 0\n",
    "        \n",
    "        for shot in shots:\n",
    "            if random.random() <= shot:\n",
    "                Goals += 1\n",
    "        return Goals\n",
    "    \n",
    "    HomeGoals = testShots(home)\n",
    "    AwayGoals = testShots(away)\n",
    "    \n",
    "    #This is all that changes from above\n",
    "    #We now pass a simple string, rather than ask for a print out.\n",
    "    if HomeGoals > AwayGoals:\n",
    "        return(\"home\")\n",
    "    elif AwayGoals > HomeGoals:\n",
    "        return(\"away\")\n",
    "    else:\n",
    "        return(\"draw\")\n",
    "    \n"
   ]
  },
  {
   "cell_type": "code",
   "execution_count": 3,
   "id": "a0282c3b",
   "metadata": {},
   "outputs": [],
   "source": [
    "#Run xG calculator 10000 times to test winner %\n",
    "def calculateChance(team1, team2):\n",
    "    home = 0;\n",
    "    away = 0;\n",
    "    draw = 0;\n",
    "    \n",
    "    for i in range(0,10000):\n",
    "        matchWinner = calculateWinner(team1,team2)\n",
    "        if matchWinner == \"home\":\n",
    "            home +=1\n",
    "        elif matchWinner == \"away\":\n",
    "            away +=1\n",
    "        else:\n",
    "            draw +=1\n",
    "    \n",
    "    home = home/100\n",
    "    away = away/100\n",
    "    draw = draw/100\n",
    "    \n",
    "    print(\"Over 10000 games, home wins {}%, away wins {}% and there is a draw in {}% of games.\".format(home, away, draw))"
   ]
  },
  {
   "cell_type": "code",
   "execution_count": 4,
   "id": "e827dffb",
   "metadata": {},
   "outputs": [
    {
     "name": "stdout",
     "output_type": "stream",
     "text": [
      "Over 10000 games, home wins 19.12%, away wins 49.04% and there is a draw in 31.84% of games.\n"
     ]
    }
   ],
   "source": [
    "HomexG=[0.6,0.5,0.66]\n",
    "AwayxG=[0.62,0.91,0.7]\n",
    "calculateChance(HomexG, AwayxG)"
   ]
  },
  {
   "cell_type": "code",
   "execution_count": null,
   "id": "b8bef73b",
   "metadata": {},
   "outputs": [],
   "source": []
  },
  {
   "cell_type": "code",
   "execution_count": null,
   "id": "94fa027d",
   "metadata": {},
   "outputs": [],
   "source": []
  }
 ],
 "metadata": {
  "kernelspec": {
   "display_name": "Python 3 (ipykernel)",
   "language": "python",
   "name": "python3"
  },
  "language_info": {
   "codemirror_mode": {
    "name": "ipython",
    "version": 3
   },
   "file_extension": ".py",
   "mimetype": "text/x-python",
   "name": "python",
   "nbconvert_exporter": "python",
   "pygments_lexer": "ipython3",
   "version": "3.11.4"
  }
 },
 "nbformat": 4,
 "nbformat_minor": 5
}
