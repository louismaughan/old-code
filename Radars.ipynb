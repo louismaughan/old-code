{
 "cells": [
  {
   "cell_type": "code",
   "execution_count": 1,
   "id": "5d8d255d",
   "metadata": {},
   "outputs": [],
   "source": [
    "import pandas as pd\n",
    "import plotly.express as px\n",
    "import plotly.graph_objects as go"
   ]
  },
  {
   "cell_type": "code",
   "execution_count": 2,
   "id": "a7d12c2e",
   "metadata": {},
   "outputs": [
    {
     "name": "stderr",
     "output_type": "stream",
     "text": [
      "C:\\Users\\Louis\\AppData\\Local\\Temp\\ipykernel_3196\\2523309248.py:8: PerformanceWarning: dropping on a non-lexsorted multi-index without a level parameter may impact performance.\n",
      "  stand.drop(columns=[\"Per 90 Minutes\"], inplace=True)\n"
     ]
    },
    {
     "data": {
      "text/html": [
       "<div>\n",
       "<style scoped>\n",
       "    .dataframe tbody tr th:only-of-type {\n",
       "        vertical-align: middle;\n",
       "    }\n",
       "\n",
       "    .dataframe tbody tr th {\n",
       "        vertical-align: top;\n",
       "    }\n",
       "\n",
       "    .dataframe thead th {\n",
       "        text-align: right;\n",
       "    }\n",
       "</style>\n",
       "<table border=\"1\" class=\"dataframe\">\n",
       "  <thead>\n",
       "    <tr style=\"text-align: right;\">\n",
       "      <th></th>\n",
       "      <th>Squad</th>\n",
       "      <th>Poss</th>\n",
       "    </tr>\n",
       "  </thead>\n",
       "  <tbody>\n",
       "    <tr>\n",
       "      <th>0</th>\n",
       "      <td>Alavés</td>\n",
       "      <td>42.2</td>\n",
       "    </tr>\n",
       "    <tr>\n",
       "      <th>1</th>\n",
       "      <td>Almería</td>\n",
       "      <td>47.6</td>\n",
       "    </tr>\n",
       "    <tr>\n",
       "      <th>2</th>\n",
       "      <td>Arsenal</td>\n",
       "      <td>60.3</td>\n",
       "    </tr>\n",
       "    <tr>\n",
       "      <th>3</th>\n",
       "      <td>Aston Villa</td>\n",
       "      <td>55.2</td>\n",
       "    </tr>\n",
       "    <tr>\n",
       "      <th>4</th>\n",
       "      <td>Atalanta</td>\n",
       "      <td>50.9</td>\n",
       "    </tr>\n",
       "  </tbody>\n",
       "</table>\n",
       "</div>"
      ],
      "text/plain": [
       "         Squad  Poss\n",
       "0       Alavés  42.2\n",
       "1      Almería  47.6\n",
       "2      Arsenal  60.3\n",
       "3  Aston Villa  55.2\n",
       "4     Atalanta  50.9"
      ]
     },
     "execution_count": 2,
     "metadata": {},
     "output_type": "execute_result"
    }
   ],
   "source": [
    "#standard stats\n",
    "dfs = pd.read_html('https://fbref.com/en/comps/Big5/stats/squads/Big-5-European-Leagues-Stats')\n",
    "#for idx,table in enumerate(dfs):\n",
    " #print(\"***************************\")\n",
    " #print(idx)\n",
    " #print(table)\n",
    "stand = pd.DataFrame(dfs[0])\n",
    "stand.drop(columns=[\"Per 90 Minutes\"], inplace=True)\n",
    "stand.columns = stand.columns.droplevel()\n",
    "for_stand = stand[['Squad','Poss']]\n",
    "for_stand.head()"
   ]
  },
  {
   "cell_type": "code",
   "execution_count": 3,
   "id": "9aaa81c8",
   "metadata": {},
   "outputs": [
    {
     "data": {
      "text/html": [
       "<div>\n",
       "<style scoped>\n",
       "    .dataframe tbody tr th:only-of-type {\n",
       "        vertical-align: middle;\n",
       "    }\n",
       "\n",
       "    .dataframe tbody tr th {\n",
       "        vertical-align: top;\n",
       "    }\n",
       "\n",
       "    .dataframe thead th {\n",
       "        text-align: right;\n",
       "    }\n",
       "</style>\n",
       "<table border=\"1\" class=\"dataframe\">\n",
       "  <thead>\n",
       "    <tr style=\"text-align: right;\">\n",
       "      <th></th>\n",
       "      <th>Squad</th>\n",
       "      <th>npxG/Sh</th>\n",
       "    </tr>\n",
       "  </thead>\n",
       "  <tbody>\n",
       "    <tr>\n",
       "      <th>0</th>\n",
       "      <td>Alavés</td>\n",
       "      <td>0.09</td>\n",
       "    </tr>\n",
       "    <tr>\n",
       "      <th>1</th>\n",
       "      <td>Almería</td>\n",
       "      <td>0.10</td>\n",
       "    </tr>\n",
       "    <tr>\n",
       "      <th>2</th>\n",
       "      <td>Arsenal</td>\n",
       "      <td>0.11</td>\n",
       "    </tr>\n",
       "    <tr>\n",
       "      <th>3</th>\n",
       "      <td>Aston Villa</td>\n",
       "      <td>0.12</td>\n",
       "    </tr>\n",
       "    <tr>\n",
       "      <th>4</th>\n",
       "      <td>Atalanta</td>\n",
       "      <td>0.10</td>\n",
       "    </tr>\n",
       "  </tbody>\n",
       "</table>\n",
       "</div>"
      ],
      "text/plain": [
       "         Squad  npxG/Sh\n",
       "0       Alavés     0.09\n",
       "1      Almería     0.10\n",
       "2      Arsenal     0.11\n",
       "3  Aston Villa     0.12\n",
       "4     Atalanta     0.10"
      ]
     },
     "execution_count": 3,
     "metadata": {},
     "output_type": "execute_result"
    }
   ],
   "source": [
    "dfs = pd.read_html('https://fbref.com/en/comps/Big5/shooting/squads/Big-5-European-Leagues-Stats')\n",
    "#for idx,table in enumerate(dfs):\n",
    " #print(\"***************************\")\n",
    " #print(idx)\n",
    " #print(table)\n",
    "shoot = pd.DataFrame(dfs[0])\n",
    "shoot.columns = shoot.columns.droplevel()\n",
    "for_shoot = shoot[['Squad','npxG/Sh']]\n",
    "for_shoot.head()"
   ]
  },
  {
   "cell_type": "code",
   "execution_count": 4,
   "id": "9aa89664",
   "metadata": {},
   "outputs": [
    {
     "data": {
      "text/html": [
       "<div>\n",
       "<style scoped>\n",
       "    .dataframe tbody tr th:only-of-type {\n",
       "        vertical-align: middle;\n",
       "    }\n",
       "\n",
       "    .dataframe tbody tr th {\n",
       "        vertical-align: top;\n",
       "    }\n",
       "\n",
       "    .dataframe thead th {\n",
       "        text-align: right;\n",
       "    }\n",
       "</style>\n",
       "<table border=\"1\" class=\"dataframe\">\n",
       "  <thead>\n",
       "    <tr style=\"text-align: right;\">\n",
       "      <th></th>\n",
       "      <th>Squad</th>\n",
       "      <th>Poss</th>\n",
       "      <th>npxG/Sh</th>\n",
       "    </tr>\n",
       "  </thead>\n",
       "  <tbody>\n",
       "    <tr>\n",
       "      <th>0</th>\n",
       "      <td>Alavés</td>\n",
       "      <td>42.2</td>\n",
       "      <td>9.0</td>\n",
       "    </tr>\n",
       "    <tr>\n",
       "      <th>1</th>\n",
       "      <td>Almería</td>\n",
       "      <td>47.6</td>\n",
       "      <td>10.0</td>\n",
       "    </tr>\n",
       "    <tr>\n",
       "      <th>2</th>\n",
       "      <td>Arsenal</td>\n",
       "      <td>60.3</td>\n",
       "      <td>11.0</td>\n",
       "    </tr>\n",
       "    <tr>\n",
       "      <th>3</th>\n",
       "      <td>Aston Villa</td>\n",
       "      <td>55.2</td>\n",
       "      <td>12.0</td>\n",
       "    </tr>\n",
       "    <tr>\n",
       "      <th>4</th>\n",
       "      <td>Atalanta</td>\n",
       "      <td>50.9</td>\n",
       "      <td>10.0</td>\n",
       "    </tr>\n",
       "  </tbody>\n",
       "</table>\n",
       "</div>"
      ],
      "text/plain": [
       "         Squad  Poss  npxG/Sh\n",
       "0       Alavés  42.2      9.0\n",
       "1      Almería  47.6     10.0\n",
       "2      Arsenal  60.3     11.0\n",
       "3  Aston Villa  55.2     12.0\n",
       "4     Atalanta  50.9     10.0"
      ]
     },
     "execution_count": 4,
     "metadata": {},
     "output_type": "execute_result"
    }
   ],
   "source": [
    "final_stand = pd.merge(for_stand, for_shoot, left_index=True, right_index=True, suffixes=('', '_opp'))\n",
    "final_stand.drop(columns=[\"Squad_opp\"], inplace=True)\n",
    "final_stand['npxG/Sh']=for_shoot['npxG/Sh']*100\n",
    "final_stand.head()"
   ]
  },
  {
   "cell_type": "code",
   "execution_count": 5,
   "id": "b122d71a",
   "metadata": {},
   "outputs": [
    {
     "data": {
      "text/html": [
       "<div>\n",
       "<style scoped>\n",
       "    .dataframe tbody tr th:only-of-type {\n",
       "        vertical-align: middle;\n",
       "    }\n",
       "\n",
       "    .dataframe tbody tr th {\n",
       "        vertical-align: top;\n",
       "    }\n",
       "\n",
       "    .dataframe thead th {\n",
       "        text-align: right;\n",
       "    }\n",
       "</style>\n",
       "<table border=\"1\" class=\"dataframe\">\n",
       "  <thead>\n",
       "    <tr style=\"text-align: right;\">\n",
       "      <th></th>\n",
       "      <th>Squad</th>\n",
       "      <th>Poss</th>\n",
       "      <th>npxG/Sh</th>\n",
       "      <th>90s</th>\n",
       "      <th>Att_1</th>\n",
       "      <th>TotDist</th>\n",
       "      <th>PrgDist</th>\n",
       "      <th>CrsPA</th>\n",
       "      <th>Att_1_opp</th>\n",
       "      <th>pas90</th>\n",
       "      <th>Crs90</th>\n",
       "    </tr>\n",
       "  </thead>\n",
       "  <tbody>\n",
       "    <tr>\n",
       "      <th>0</th>\n",
       "      <td>Alavés</td>\n",
       "      <td>42.2</td>\n",
       "      <td>9.0</td>\n",
       "      <td>22.0</td>\n",
       "      <td>8286</td>\n",
       "      <td>111452</td>\n",
       "      <td>48425</td>\n",
       "      <td>58</td>\n",
       "      <td>11733</td>\n",
       "      <td>376.64</td>\n",
       "      <td>2.64</td>\n",
       "    </tr>\n",
       "    <tr>\n",
       "      <th>1</th>\n",
       "      <td>Almería</td>\n",
       "      <td>47.6</td>\n",
       "      <td>10.0</td>\n",
       "      <td>22.0</td>\n",
       "      <td>9628</td>\n",
       "      <td>134142</td>\n",
       "      <td>49961</td>\n",
       "      <td>56</td>\n",
       "      <td>10689</td>\n",
       "      <td>437.64</td>\n",
       "      <td>2.55</td>\n",
       "    </tr>\n",
       "    <tr>\n",
       "      <th>2</th>\n",
       "      <td>Arsenal</td>\n",
       "      <td>60.3</td>\n",
       "      <td>11.0</td>\n",
       "      <td>21.0</td>\n",
       "      <td>12778</td>\n",
       "      <td>180043</td>\n",
       "      <td>57348</td>\n",
       "      <td>42</td>\n",
       "      <td>8414</td>\n",
       "      <td>608.48</td>\n",
       "      <td>2.00</td>\n",
       "    </tr>\n",
       "    <tr>\n",
       "      <th>3</th>\n",
       "      <td>Aston Villa</td>\n",
       "      <td>55.2</td>\n",
       "      <td>12.0</td>\n",
       "      <td>21.0</td>\n",
       "      <td>10939</td>\n",
       "      <td>159017</td>\n",
       "      <td>53894</td>\n",
       "      <td>43</td>\n",
       "      <td>9072</td>\n",
       "      <td>520.90</td>\n",
       "      <td>2.05</td>\n",
       "    </tr>\n",
       "    <tr>\n",
       "      <th>4</th>\n",
       "      <td>Atalanta</td>\n",
       "      <td>50.9</td>\n",
       "      <td>10.0</td>\n",
       "      <td>20.0</td>\n",
       "      <td>10517</td>\n",
       "      <td>146551</td>\n",
       "      <td>52771</td>\n",
       "      <td>57</td>\n",
       "      <td>10183</td>\n",
       "      <td>525.85</td>\n",
       "      <td>2.85</td>\n",
       "    </tr>\n",
       "  </tbody>\n",
       "</table>\n",
       "</div>"
      ],
      "text/plain": [
       "         Squad  Poss  npxG/Sh   90s  Att_1  TotDist  PrgDist  CrsPA  \\\n",
       "0       Alavés  42.2      9.0  22.0   8286   111452    48425     58   \n",
       "1      Almería  47.6     10.0  22.0   9628   134142    49961     56   \n",
       "2      Arsenal  60.3     11.0  21.0  12778   180043    57348     42   \n",
       "3  Aston Villa  55.2     12.0  21.0  10939   159017    53894     43   \n",
       "4     Atalanta  50.9     10.0  20.0  10517   146551    52771     57   \n",
       "\n",
       "   Att_1_opp   pas90  Crs90  \n",
       "0      11733  376.64   2.64  \n",
       "1      10689  437.64   2.55  \n",
       "2       8414  608.48   2.00  \n",
       "3       9072  520.90   2.05  \n",
       "4      10183  525.85   2.85  "
      ]
     },
     "execution_count": 5,
     "metadata": {},
     "output_type": "execute_result"
    }
   ],
   "source": [
    "#passing stats\n",
    "dfp = pd.read_html('https://fbref.com/en/comps/Big5/passing/squads/Big-5-European-Leagues-Stats')\n",
    "#for idx,table in enumerate(dfp):\n",
    " #print(\"***************************\")\n",
    " #print(idx)\n",
    " #print(table)\n",
    "pas = pd.DataFrame(dfp[0])\n",
    "opp_pas = pd.DataFrame(dfp[1])\n",
    "pas.columns = pas.columns.droplevel()\n",
    "cols = []\n",
    "count = 1\n",
    "for column in pas.columns:\n",
    "    if column == 'Att':\n",
    "        cols.append(f'Att_{count}')\n",
    "        count+=1\n",
    "        continue\n",
    "    cols.append(column)\n",
    "pas.columns = cols\n",
    "for_pas = pas[['Squad','90s','Att_1','TotDist','PrgDist','CrsPA']]\n",
    "opp_pas.columns = opp_pas.columns.droplevel()\n",
    "cols = []\n",
    "count = 1\n",
    "for column in opp_pas.columns:\n",
    "    if column == 'Att':\n",
    "        cols.append(f'Att_{count}')\n",
    "        count+=1\n",
    "        continue\n",
    "    cols.append(column)\n",
    "opp_pas.columns = cols\n",
    "ag_pas = opp_pas[['Squad','90s','Att_1']]\n",
    "final_pas = pd.merge(for_pas, ag_pas, left_index=True, right_index=True, suffixes=('', '_opp'))\n",
    "final_pas.drop(columns=[\"Squad_opp\",\"90s_opp\"], inplace=True)\n",
    "stanpas = pd.merge(final_stand, final_pas, left_index=True, right_index=True, suffixes=('', '_opp'))\n",
    "stanpas.drop(columns=[\"Squad_opp\"], inplace=True)\n",
    "stanpas['pas90'] = stanpas['Att_1']/stanpas['90s']\n",
    "stanpas.pas90=stanpas.pas90.round(2)\n",
    "stanpas['Crs90'] = stanpas['CrsPA']/stanpas['90s']\n",
    "stanpas.Crs90=stanpas.Crs90.round(2)\n",
    "stanpas.head()"
   ]
  },
  {
   "cell_type": "code",
   "execution_count": 6,
   "id": "43f64981",
   "metadata": {},
   "outputs": [
    {
     "data": {
      "text/html": [
       "<div>\n",
       "<style scoped>\n",
       "    .dataframe tbody tr th:only-of-type {\n",
       "        vertical-align: middle;\n",
       "    }\n",
       "\n",
       "    .dataframe tbody tr th {\n",
       "        vertical-align: top;\n",
       "    }\n",
       "\n",
       "    .dataframe thead th {\n",
       "        text-align: right;\n",
       "    }\n",
       "</style>\n",
       "<table border=\"1\" class=\"dataframe\">\n",
       "  <thead>\n",
       "    <tr style=\"text-align: right;\">\n",
       "      <th></th>\n",
       "      <th>Squad</th>\n",
       "      <th>Poss</th>\n",
       "      <th>npxG/Sh</th>\n",
       "      <th>90s</th>\n",
       "      <th>Att_1</th>\n",
       "      <th>TotDist</th>\n",
       "      <th>PrgDist</th>\n",
       "      <th>CrsPA</th>\n",
       "      <th>Att_1_opp</th>\n",
       "      <th>pas90</th>\n",
       "      <th>Crs90</th>\n",
       "      <th>90s_opp</th>\n",
       "      <th>PassDead_1</th>\n",
       "    </tr>\n",
       "  </thead>\n",
       "  <tbody>\n",
       "    <tr>\n",
       "      <th>0</th>\n",
       "      <td>Alavés</td>\n",
       "      <td>42.2</td>\n",
       "      <td>9.0</td>\n",
       "      <td>22.0</td>\n",
       "      <td>8286</td>\n",
       "      <td>111452</td>\n",
       "      <td>48425</td>\n",
       "      <td>58</td>\n",
       "      <td>11733</td>\n",
       "      <td>376.64</td>\n",
       "      <td>2.64</td>\n",
       "      <td>22.0</td>\n",
       "      <td>46</td>\n",
       "    </tr>\n",
       "    <tr>\n",
       "      <th>1</th>\n",
       "      <td>Almería</td>\n",
       "      <td>47.6</td>\n",
       "      <td>10.0</td>\n",
       "      <td>22.0</td>\n",
       "      <td>9628</td>\n",
       "      <td>134142</td>\n",
       "      <td>49961</td>\n",
       "      <td>56</td>\n",
       "      <td>10689</td>\n",
       "      <td>437.64</td>\n",
       "      <td>2.55</td>\n",
       "      <td>22.0</td>\n",
       "      <td>44</td>\n",
       "    </tr>\n",
       "    <tr>\n",
       "      <th>2</th>\n",
       "      <td>Arsenal</td>\n",
       "      <td>60.3</td>\n",
       "      <td>11.0</td>\n",
       "      <td>21.0</td>\n",
       "      <td>12778</td>\n",
       "      <td>180043</td>\n",
       "      <td>57348</td>\n",
       "      <td>42</td>\n",
       "      <td>8414</td>\n",
       "      <td>608.48</td>\n",
       "      <td>2.00</td>\n",
       "      <td>21.0</td>\n",
       "      <td>49</td>\n",
       "    </tr>\n",
       "    <tr>\n",
       "      <th>3</th>\n",
       "      <td>Aston Villa</td>\n",
       "      <td>55.2</td>\n",
       "      <td>12.0</td>\n",
       "      <td>21.0</td>\n",
       "      <td>10939</td>\n",
       "      <td>159017</td>\n",
       "      <td>53894</td>\n",
       "      <td>43</td>\n",
       "      <td>9072</td>\n",
       "      <td>520.90</td>\n",
       "      <td>2.05</td>\n",
       "      <td>21.0</td>\n",
       "      <td>45</td>\n",
       "    </tr>\n",
       "    <tr>\n",
       "      <th>4</th>\n",
       "      <td>Atalanta</td>\n",
       "      <td>50.9</td>\n",
       "      <td>10.0</td>\n",
       "      <td>20.0</td>\n",
       "      <td>10517</td>\n",
       "      <td>146551</td>\n",
       "      <td>52771</td>\n",
       "      <td>57</td>\n",
       "      <td>10183</td>\n",
       "      <td>525.85</td>\n",
       "      <td>2.85</td>\n",
       "      <td>20.0</td>\n",
       "      <td>43</td>\n",
       "    </tr>\n",
       "  </tbody>\n",
       "</table>\n",
       "</div>"
      ],
      "text/plain": [
       "         Squad  Poss  npxG/Sh   90s  Att_1  TotDist  PrgDist  CrsPA  \\\n",
       "0       Alavés  42.2      9.0  22.0   8286   111452    48425     58   \n",
       "1      Almería  47.6     10.0  22.0   9628   134142    49961     56   \n",
       "2      Arsenal  60.3     11.0  21.0  12778   180043    57348     42   \n",
       "3  Aston Villa  55.2     12.0  21.0  10939   159017    53894     43   \n",
       "4     Atalanta  50.9     10.0  20.0  10517   146551    52771     57   \n",
       "\n",
       "   Att_1_opp   pas90  Crs90  90s_opp  PassDead_1  \n",
       "0      11733  376.64   2.64     22.0          46  \n",
       "1      10689  437.64   2.55     22.0          44  \n",
       "2       8414  608.48   2.00     21.0          49  \n",
       "3       9072  520.90   2.05     21.0          45  \n",
       "4      10183  525.85   2.85     20.0          43  "
      ]
     },
     "execution_count": 6,
     "metadata": {},
     "output_type": "execute_result"
    }
   ],
   "source": [
    "#sca stats\n",
    "dfg = pd.read_html('https://fbref.com/en/comps/Big5/gca/squads/Big-5-European-Leagues-Stats')\n",
    "#for idx,table in enumerate(dfg):\n",
    " #print(\"***************************\")\n",
    " #print(idx)\n",
    " #print(table)\n",
    "sca = pd.DataFrame(dfg[0])\n",
    "sca.columns = sca.columns.droplevel()\n",
    "cols = []\n",
    "count = 1\n",
    "for column in sca.columns:\n",
    "    if column == 'PassDead':\n",
    "        cols.append(f'PassDead_{count}')\n",
    "        count+=1\n",
    "        continue\n",
    "    cols.append(column)\n",
    "sca.columns = cols\n",
    "sca.head()\n",
    "for_sca = sca[['Squad','90s','PassDead_1']]\n",
    "stanpasca = pd.merge(stanpas, for_sca, left_index=True, right_index=True, suffixes=('', '_opp'))\n",
    "stanpasca.drop(columns=[\"Squad_opp\"], inplace=True)\n",
    "stanpasca.head()"
   ]
  },
  {
   "cell_type": "code",
   "execution_count": 7,
   "id": "31291522",
   "metadata": {},
   "outputs": [
    {
     "data": {
      "text/html": [
       "<div>\n",
       "<style scoped>\n",
       "    .dataframe tbody tr th:only-of-type {\n",
       "        vertical-align: middle;\n",
       "    }\n",
       "\n",
       "    .dataframe tbody tr th {\n",
       "        vertical-align: top;\n",
       "    }\n",
       "\n",
       "    .dataframe thead th {\n",
       "        text-align: right;\n",
       "    }\n",
       "</style>\n",
       "<table border=\"1\" class=\"dataframe\">\n",
       "  <thead>\n",
       "    <tr style=\"text-align: right;\">\n",
       "      <th></th>\n",
       "      <th>Squad</th>\n",
       "      <th>Poss</th>\n",
       "      <th>npxG/Sh</th>\n",
       "      <th>90s</th>\n",
       "      <th>Att_1</th>\n",
       "      <th>TotDist</th>\n",
       "      <th>PrgDist</th>\n",
       "      <th>CrsPA</th>\n",
       "      <th>Att_1_opp</th>\n",
       "      <th>pas90</th>\n",
       "      <th>Crs90</th>\n",
       "      <th>90s_opp</th>\n",
       "      <th>PassDead_1</th>\n",
       "      <th>Def 3rd</th>\n",
       "      <th>Mid 3rd</th>\n",
       "      <th>Att 3rd</th>\n",
       "      <th>Att</th>\n",
       "      <th>Tkl+Int</th>\n",
       "      <th>Att_opp</th>\n",
       "      <th>Tkl+Int_opp</th>\n",
       "    </tr>\n",
       "  </thead>\n",
       "  <tbody>\n",
       "    <tr>\n",
       "      <th>0</th>\n",
       "      <td>Alavés</td>\n",
       "      <td>42.2</td>\n",
       "      <td>9.0</td>\n",
       "      <td>22.0</td>\n",
       "      <td>8286</td>\n",
       "      <td>111452</td>\n",
       "      <td>48425</td>\n",
       "      <td>58</td>\n",
       "      <td>11733</td>\n",
       "      <td>376.64</td>\n",
       "      <td>2.64</td>\n",
       "      <td>22.0</td>\n",
       "      <td>46</td>\n",
       "      <td>159</td>\n",
       "      <td>132</td>\n",
       "      <td>38</td>\n",
       "      <td>356</td>\n",
       "      <td>478</td>\n",
       "      <td>336</td>\n",
       "      <td>454</td>\n",
       "    </tr>\n",
       "    <tr>\n",
       "      <th>1</th>\n",
       "      <td>Almería</td>\n",
       "      <td>47.6</td>\n",
       "      <td>10.0</td>\n",
       "      <td>22.0</td>\n",
       "      <td>9628</td>\n",
       "      <td>134142</td>\n",
       "      <td>49961</td>\n",
       "      <td>56</td>\n",
       "      <td>10689</td>\n",
       "      <td>437.64</td>\n",
       "      <td>2.55</td>\n",
       "      <td>22.0</td>\n",
       "      <td>44</td>\n",
       "      <td>211</td>\n",
       "      <td>138</td>\n",
       "      <td>35</td>\n",
       "      <td>352</td>\n",
       "      <td>556</td>\n",
       "      <td>353</td>\n",
       "      <td>489</td>\n",
       "    </tr>\n",
       "    <tr>\n",
       "      <th>2</th>\n",
       "      <td>Arsenal</td>\n",
       "      <td>60.3</td>\n",
       "      <td>11.0</td>\n",
       "      <td>21.0</td>\n",
       "      <td>12778</td>\n",
       "      <td>180043</td>\n",
       "      <td>57348</td>\n",
       "      <td>42</td>\n",
       "      <td>8414</td>\n",
       "      <td>608.48</td>\n",
       "      <td>2.00</td>\n",
       "      <td>21.0</td>\n",
       "      <td>49</td>\n",
       "      <td>143</td>\n",
       "      <td>145</td>\n",
       "      <td>59</td>\n",
       "      <td>306</td>\n",
       "      <td>509</td>\n",
       "      <td>333</td>\n",
       "      <td>572</td>\n",
       "    </tr>\n",
       "    <tr>\n",
       "      <th>3</th>\n",
       "      <td>Aston Villa</td>\n",
       "      <td>55.2</td>\n",
       "      <td>12.0</td>\n",
       "      <td>21.0</td>\n",
       "      <td>10939</td>\n",
       "      <td>159017</td>\n",
       "      <td>53894</td>\n",
       "      <td>43</td>\n",
       "      <td>9072</td>\n",
       "      <td>520.90</td>\n",
       "      <td>2.05</td>\n",
       "      <td>21.0</td>\n",
       "      <td>45</td>\n",
       "      <td>156</td>\n",
       "      <td>127</td>\n",
       "      <td>35</td>\n",
       "      <td>310</td>\n",
       "      <td>464</td>\n",
       "      <td>375</td>\n",
       "      <td>598</td>\n",
       "    </tr>\n",
       "    <tr>\n",
       "      <th>4</th>\n",
       "      <td>Atalanta</td>\n",
       "      <td>50.9</td>\n",
       "      <td>10.0</td>\n",
       "      <td>20.0</td>\n",
       "      <td>10517</td>\n",
       "      <td>146551</td>\n",
       "      <td>52771</td>\n",
       "      <td>57</td>\n",
       "      <td>10183</td>\n",
       "      <td>525.85</td>\n",
       "      <td>2.85</td>\n",
       "      <td>20.0</td>\n",
       "      <td>43</td>\n",
       "      <td>146</td>\n",
       "      <td>129</td>\n",
       "      <td>42</td>\n",
       "      <td>301</td>\n",
       "      <td>519</td>\n",
       "      <td>285</td>\n",
       "      <td>518</td>\n",
       "    </tr>\n",
       "  </tbody>\n",
       "</table>\n",
       "</div>"
      ],
      "text/plain": [
       "         Squad  Poss  npxG/Sh   90s  Att_1  TotDist  PrgDist  CrsPA  \\\n",
       "0       Alavés  42.2      9.0  22.0   8286   111452    48425     58   \n",
       "1      Almería  47.6     10.0  22.0   9628   134142    49961     56   \n",
       "2      Arsenal  60.3     11.0  21.0  12778   180043    57348     42   \n",
       "3  Aston Villa  55.2     12.0  21.0  10939   159017    53894     43   \n",
       "4     Atalanta  50.9     10.0  20.0  10517   146551    52771     57   \n",
       "\n",
       "   Att_1_opp   pas90  Crs90  90s_opp  PassDead_1  Def 3rd  Mid 3rd  Att 3rd  \\\n",
       "0      11733  376.64   2.64     22.0          46      159      132       38   \n",
       "1      10689  437.64   2.55     22.0          44      211      138       35   \n",
       "2       8414  608.48   2.00     21.0          49      143      145       59   \n",
       "3       9072  520.90   2.05     21.0          45      156      127       35   \n",
       "4      10183  525.85   2.85     20.0          43      146      129       42   \n",
       "\n",
       "   Att  Tkl+Int  Att_opp  Tkl+Int_opp  \n",
       "0  356      478      336          454  \n",
       "1  352      556      353          489  \n",
       "2  306      509      333          572  \n",
       "3  310      464      375          598  \n",
       "4  301      519      285          518  "
      ]
     },
     "execution_count": 7,
     "metadata": {},
     "output_type": "execute_result"
    }
   ],
   "source": [
    "#defensive stats\n",
    "dft = pd.read_html('https://fbref.com/en/comps/Big5/defense/squads/Big-5-European-Leagues-Stats')\n",
    "#for idx,table in enumerate(dft):\n",
    " #print(\"***************************\")\n",
    " #print(idx)\n",
    " #print(table)\n",
    "tak = pd.DataFrame(dft[0])\n",
    "opp_tak = pd.DataFrame(dft[1])\n",
    "tak.columns = tak.columns.droplevel()\n",
    "for_tak = tak[['Squad','Def 3rd','Mid 3rd','Att 3rd','Att','Tkl+Int']]\n",
    "opp_tak.columns = opp_tak.columns.droplevel()\n",
    "ag_tak = opp_tak[['Squad','Att','Tkl+Int']]\n",
    "final_tak = pd.merge(for_tak, ag_tak, left_index=True, right_index=True, suffixes=('', '_opp'))\n",
    "final_tak.drop(columns=[\"Squad_opp\"], inplace=True)\n",
    "stanpascat = pd.merge(stanpasca, final_tak, left_index=True, right_index=True, suffixes=('', '_opp'))\n",
    "stanpascat.drop(columns=[\"Squad_opp\"], inplace=True)\n",
    "stanpascat.head()"
   ]
  },
  {
   "cell_type": "code",
   "execution_count": 8,
   "id": "7e15fa02",
   "metadata": {},
   "outputs": [
    {
     "name": "stderr",
     "output_type": "stream",
     "text": [
      "C:\\Users\\Louis\\AppData\\Local\\Temp\\ipykernel_3196\\4220869892.py:15: FutureWarning: Passing 'suffixes' which cause duplicate columns {'Att 3rd_opp'} in the result is deprecated and will raise a MergeError in a future version.\n",
      "  stanpascatpo = pd.merge(stanpascat, final_pos, left_index=True, right_index=True, suffixes=('', '_opp'))\n"
     ]
    },
    {
     "data": {
      "text/html": [
       "<div>\n",
       "<style scoped>\n",
       "    .dataframe tbody tr th:only-of-type {\n",
       "        vertical-align: middle;\n",
       "    }\n",
       "\n",
       "    .dataframe tbody tr th {\n",
       "        vertical-align: top;\n",
       "    }\n",
       "\n",
       "    .dataframe thead th {\n",
       "        text-align: right;\n",
       "    }\n",
       "</style>\n",
       "<table border=\"1\" class=\"dataframe\">\n",
       "  <thead>\n",
       "    <tr style=\"text-align: right;\">\n",
       "      <th></th>\n",
       "      <th>Squad</th>\n",
       "      <th>Poss</th>\n",
       "      <th>npxG/Sh</th>\n",
       "      <th>90s</th>\n",
       "      <th>Att_1</th>\n",
       "      <th>TotDist</th>\n",
       "      <th>PrgDist</th>\n",
       "      <th>CrsPA</th>\n",
       "      <th>Att_1_opp</th>\n",
       "      <th>pas90</th>\n",
       "      <th>...</th>\n",
       "      <th>Def 3rd</th>\n",
       "      <th>Mid 3rd</th>\n",
       "      <th>Att 3rd</th>\n",
       "      <th>Att</th>\n",
       "      <th>Tkl+Int</th>\n",
       "      <th>Att_opp</th>\n",
       "      <th>Tkl+Int_opp</th>\n",
       "      <th>Touches</th>\n",
       "      <th>Att 3rd touch</th>\n",
       "      <th>Att 3rd touch_opp</th>\n",
       "    </tr>\n",
       "  </thead>\n",
       "  <tbody>\n",
       "    <tr>\n",
       "      <th>0</th>\n",
       "      <td>Alavés</td>\n",
       "      <td>42.2</td>\n",
       "      <td>9.0</td>\n",
       "      <td>22.0</td>\n",
       "      <td>8286</td>\n",
       "      <td>111452</td>\n",
       "      <td>48425</td>\n",
       "      <td>58</td>\n",
       "      <td>11733</td>\n",
       "      <td>376.64</td>\n",
       "      <td>...</td>\n",
       "      <td>159</td>\n",
       "      <td>132</td>\n",
       "      <td>38</td>\n",
       "      <td>356</td>\n",
       "      <td>478</td>\n",
       "      <td>336</td>\n",
       "      <td>454</td>\n",
       "      <td>10639</td>\n",
       "      <td>2802</td>\n",
       "      <td>3304</td>\n",
       "    </tr>\n",
       "    <tr>\n",
       "      <th>1</th>\n",
       "      <td>Almería</td>\n",
       "      <td>47.6</td>\n",
       "      <td>10.0</td>\n",
       "      <td>22.0</td>\n",
       "      <td>9628</td>\n",
       "      <td>134142</td>\n",
       "      <td>49961</td>\n",
       "      <td>56</td>\n",
       "      <td>10689</td>\n",
       "      <td>437.64</td>\n",
       "      <td>...</td>\n",
       "      <td>211</td>\n",
       "      <td>138</td>\n",
       "      <td>35</td>\n",
       "      <td>352</td>\n",
       "      <td>556</td>\n",
       "      <td>353</td>\n",
       "      <td>489</td>\n",
       "      <td>12047</td>\n",
       "      <td>2458</td>\n",
       "      <td>3490</td>\n",
       "    </tr>\n",
       "    <tr>\n",
       "      <th>2</th>\n",
       "      <td>Arsenal</td>\n",
       "      <td>60.3</td>\n",
       "      <td>11.0</td>\n",
       "      <td>21.0</td>\n",
       "      <td>12778</td>\n",
       "      <td>180043</td>\n",
       "      <td>57348</td>\n",
       "      <td>42</td>\n",
       "      <td>8414</td>\n",
       "      <td>608.48</td>\n",
       "      <td>...</td>\n",
       "      <td>143</td>\n",
       "      <td>145</td>\n",
       "      <td>59</td>\n",
       "      <td>306</td>\n",
       "      <td>509</td>\n",
       "      <td>333</td>\n",
       "      <td>572</td>\n",
       "      <td>14926</td>\n",
       "      <td>4779</td>\n",
       "      <td>1995</td>\n",
       "    </tr>\n",
       "    <tr>\n",
       "      <th>3</th>\n",
       "      <td>Aston Villa</td>\n",
       "      <td>55.2</td>\n",
       "      <td>12.0</td>\n",
       "      <td>21.0</td>\n",
       "      <td>10939</td>\n",
       "      <td>159017</td>\n",
       "      <td>53894</td>\n",
       "      <td>43</td>\n",
       "      <td>9072</td>\n",
       "      <td>520.90</td>\n",
       "      <td>...</td>\n",
       "      <td>156</td>\n",
       "      <td>127</td>\n",
       "      <td>35</td>\n",
       "      <td>310</td>\n",
       "      <td>464</td>\n",
       "      <td>375</td>\n",
       "      <td>598</td>\n",
       "      <td>13054</td>\n",
       "      <td>3269</td>\n",
       "      <td>2470</td>\n",
       "    </tr>\n",
       "    <tr>\n",
       "      <th>4</th>\n",
       "      <td>Atalanta</td>\n",
       "      <td>50.9</td>\n",
       "      <td>10.0</td>\n",
       "      <td>20.0</td>\n",
       "      <td>10517</td>\n",
       "      <td>146551</td>\n",
       "      <td>52771</td>\n",
       "      <td>57</td>\n",
       "      <td>10183</td>\n",
       "      <td>525.85</td>\n",
       "      <td>...</td>\n",
       "      <td>146</td>\n",
       "      <td>129</td>\n",
       "      <td>42</td>\n",
       "      <td>301</td>\n",
       "      <td>519</td>\n",
       "      <td>285</td>\n",
       "      <td>518</td>\n",
       "      <td>12763</td>\n",
       "      <td>3177</td>\n",
       "      <td>2434</td>\n",
       "    </tr>\n",
       "  </tbody>\n",
       "</table>\n",
       "<p>5 rows × 23 columns</p>\n",
       "</div>"
      ],
      "text/plain": [
       "         Squad  Poss  npxG/Sh   90s  Att_1  TotDist  PrgDist  CrsPA  \\\n",
       "0       Alavés  42.2      9.0  22.0   8286   111452    48425     58   \n",
       "1      Almería  47.6     10.0  22.0   9628   134142    49961     56   \n",
       "2      Arsenal  60.3     11.0  21.0  12778   180043    57348     42   \n",
       "3  Aston Villa  55.2     12.0  21.0  10939   159017    53894     43   \n",
       "4     Atalanta  50.9     10.0  20.0  10517   146551    52771     57   \n",
       "\n",
       "   Att_1_opp   pas90  ...  Def 3rd  Mid 3rd  Att 3rd  Att  Tkl+Int  Att_opp  \\\n",
       "0      11733  376.64  ...      159      132       38  356      478      336   \n",
       "1      10689  437.64  ...      211      138       35  352      556      353   \n",
       "2       8414  608.48  ...      143      145       59  306      509      333   \n",
       "3       9072  520.90  ...      156      127       35  310      464      375   \n",
       "4      10183  525.85  ...      146      129       42  301      519      285   \n",
       "\n",
       "   Tkl+Int_opp  Touches  Att 3rd touch  Att 3rd touch_opp  \n",
       "0          454    10639           2802               3304  \n",
       "1          489    12047           2458               3490  \n",
       "2          572    14926           4779               1995  \n",
       "3          598    13054           3269               2470  \n",
       "4          518    12763           3177               2434  \n",
       "\n",
       "[5 rows x 23 columns]"
      ]
     },
     "execution_count": 8,
     "metadata": {},
     "output_type": "execute_result"
    }
   ],
   "source": [
    "#possession stats\n",
    "dftpo = pd.read_html('https://fbref.com/en/comps/Big5/possession/squads/Big-5-European-Leagues-Stats')\n",
    "#for idx,table in enumerate(dftpo):\n",
    " #print(\"***************************\")\n",
    " #print(idx)\n",
    " #print(table)\n",
    "pos = pd.DataFrame(dftpo[0])\n",
    "opp_pos = pd.DataFrame(dftpo[1])\n",
    "pos.columns = pos.columns.droplevel()\n",
    "for_pos = pos[['Squad','Touches','Att 3rd']]\n",
    "opp_pos.columns = opp_pos.columns.droplevel()\n",
    "ag_pos = opp_pos[['Squad','Att 3rd']]\n",
    "final_pos = pd.merge(for_pos, ag_pos, left_index=True, right_index=True, suffixes=('', '_opp'))\n",
    "final_pos.drop(columns=[\"Squad_opp\"], inplace=True)\n",
    "stanpascatpo = pd.merge(stanpascat, final_pos, left_index=True, right_index=True, suffixes=('', '_opp'))\n",
    "stanpascatpo.drop(columns=[\"Squad_opp\"], inplace=True)\n",
    "cols = []\n",
    "count = 1\n",
    "for column in stanpascatpo.columns:\n",
    "    if column == 'Att 3rd_opp':\n",
    "        cols.append(f'Att 3rd_opp_{count}')\n",
    "        count+=1\n",
    "        continue\n",
    "    cols.append(column)\n",
    "stanpascatpo.columns = cols\n",
    "stanpascatpo = stanpascatpo.rename(columns={'Att 3rd_opp_1': 'Att 3rd touch', 'Att 3rd_opp_2': 'Att 3rd touch_opp'})\n",
    "stanpascatpo.head()"
   ]
  },
  {
   "cell_type": "code",
   "execution_count": 9,
   "id": "61282750",
   "metadata": {},
   "outputs": [
    {
     "name": "stderr",
     "output_type": "stream",
     "text": [
      "C:\\Users\\Louis\\AppData\\Local\\Temp\\ipykernel_3196\\2876549013.py:3: SettingWithCopyWarning: \n",
      "A value is trying to be set on a copy of a slice from a DataFrame.\n",
      "Try using .loc[row_indexer,col_indexer] = value instead\n",
      "\n",
      "See the caveats in the documentation: https://pandas.pydata.org/pandas-docs/stable/user_guide/indexing.html#returning-a-view-versus-a-copy\n",
      "  team_style['Possession'] = stanpascatpo['Poss']\n",
      "C:\\Users\\Louis\\AppData\\Local\\Temp\\ipykernel_3196\\2876549013.py:4: SettingWithCopyWarning: \n",
      "A value is trying to be set on a copy of a slice from a DataFrame.\n",
      "Try using .loc[row_indexer,col_indexer] = value instead\n",
      "\n",
      "See the caveats in the documentation: https://pandas.pydata.org/pandas-docs/stable/user_guide/indexing.html#returning-a-view-versus-a-copy\n",
      "  team_style['Press intensity'] = stanpascatpo['Att_1_opp']/(stanpascatpo['Tkl+Int']+stanpascatpo['Att'])\n",
      "C:\\Users\\Louis\\AppData\\Local\\Temp\\ipykernel_3196\\2876549013.py:5: SettingWithCopyWarning: \n",
      "A value is trying to be set on a copy of a slice from a DataFrame.\n",
      "Try using .loc[row_indexer,col_indexer] = value instead\n",
      "\n",
      "See the caveats in the documentation: https://pandas.pydata.org/pandas-docs/stable/user_guide/indexing.html#returning-a-view-versus-a-copy\n",
      "  team_style['Press resistance'] = stanpascatpo['Att_1']/(stanpascatpo['Tkl+Int_opp']+stanpascatpo['Att_opp'])\n",
      "C:\\Users\\Louis\\AppData\\Local\\Temp\\ipykernel_3196\\2876549013.py:6: SettingWithCopyWarning: \n",
      "A value is trying to be set on a copy of a slice from a DataFrame.\n",
      "Try using .loc[row_indexer,col_indexer] = value instead\n",
      "\n",
      "See the caveats in the documentation: https://pandas.pydata.org/pandas-docs/stable/user_guide/indexing.html#returning-a-view-versus-a-copy\n",
      "  team_style['Field tilt'] = stanpascatpo['Att 3rd touch']/(stanpascatpo['Att 3rd touch']+stanpascatpo['Att 3rd touch_opp'])*100\n",
      "C:\\Users\\Louis\\AppData\\Local\\Temp\\ipykernel_3196\\2876549013.py:7: SettingWithCopyWarning: \n",
      "A value is trying to be set on a copy of a slice from a DataFrame.\n",
      "Try using .loc[row_indexer,col_indexer] = value instead\n",
      "\n",
      "See the caveats in the documentation: https://pandas.pydata.org/pandas-docs/stable/user_guide/indexing.html#returning-a-view-versus-a-copy\n",
      "  team_style['Tempo'] = stanpascatpo['Att_1']*100/stanpascatpo['Touches']\n",
      "C:\\Users\\Louis\\AppData\\Local\\Temp\\ipykernel_3196\\2876549013.py:8: SettingWithCopyWarning: \n",
      "A value is trying to be set on a copy of a slice from a DataFrame.\n",
      "Try using .loc[row_indexer,col_indexer] = value instead\n",
      "\n",
      "See the caveats in the documentation: https://pandas.pydata.org/pandas-docs/stable/user_guide/indexing.html#returning-a-view-versus-a-copy\n",
      "  team_style['Directness'] = stanpascatpo['PrgDist']*100/stanpascatpo['TotDist']\n",
      "C:\\Users\\Louis\\AppData\\Local\\Temp\\ipykernel_3196\\2876549013.py:9: SettingWithCopyWarning: \n",
      "A value is trying to be set on a copy of a slice from a DataFrame.\n",
      "Try using .loc[row_indexer,col_indexer] = value instead\n",
      "\n",
      "See the caveats in the documentation: https://pandas.pydata.org/pandas-docs/stable/user_guide/indexing.html#returning-a-view-versus-a-copy\n",
      "  team_style['Crossing'] = stanpascatpo['Crs90']\n",
      "C:\\Users\\Louis\\AppData\\Local\\Temp\\ipykernel_3196\\2876549013.py:10: SettingWithCopyWarning: \n",
      "A value is trying to be set on a copy of a slice from a DataFrame.\n",
      "Try using .loc[row_indexer,col_indexer] = value instead\n",
      "\n",
      "See the caveats in the documentation: https://pandas.pydata.org/pandas-docs/stable/user_guide/indexing.html#returning-a-view-versus-a-copy\n",
      "  team_style['Set pieces'] = stanpascatpo['PassDead_1']\n",
      "C:\\Users\\Louis\\AppData\\Local\\Temp\\ipykernel_3196\\2876549013.py:11: SettingWithCopyWarning: \n",
      "A value is trying to be set on a copy of a slice from a DataFrame.\n",
      "Try using .loc[row_indexer,col_indexer] = value instead\n",
      "\n",
      "See the caveats in the documentation: https://pandas.pydata.org/pandas-docs/stable/user_guide/indexing.html#returning-a-view-versus-a-copy\n",
      "  team_style['npxG per shot'] = stanpascatpo['npxG/Sh']\n",
      "C:\\Users\\Louis\\AppData\\Local\\Temp\\ipykernel_3196\\2876549013.py:12: SettingWithCopyWarning: \n",
      "A value is trying to be set on a copy of a slice from a DataFrame.\n",
      "Try using .loc[row_indexer,col_indexer] = value instead\n",
      "\n",
      "See the caveats in the documentation: https://pandas.pydata.org/pandas-docs/stable/user_guide/indexing.html#returning-a-view-versus-a-copy\n",
      "  team_style['Def 3rd tackles'] = team_style['Def 3rd'] / (team_style['Def 3rd'] + team_style['Mid 3rd'] + team_style['Att 3rd'])\n",
      "C:\\Users\\Louis\\AppData\\Local\\Temp\\ipykernel_3196\\2876549013.py:13: SettingWithCopyWarning: \n",
      "A value is trying to be set on a copy of a slice from a DataFrame.\n",
      "Try using .loc[row_indexer,col_indexer] = value instead\n",
      "\n",
      "See the caveats in the documentation: https://pandas.pydata.org/pandas-docs/stable/user_guide/indexing.html#returning-a-view-versus-a-copy\n",
      "  team_style['Mid 3rd tackles'] = team_style['Mid 3rd'] / (team_style['Def 3rd'] + team_style['Mid 3rd'] + team_style['Att 3rd'])\n",
      "C:\\Users\\Louis\\AppData\\Local\\Temp\\ipykernel_3196\\2876549013.py:14: SettingWithCopyWarning: \n",
      "A value is trying to be set on a copy of a slice from a DataFrame.\n",
      "Try using .loc[row_indexer,col_indexer] = value instead\n",
      "\n",
      "See the caveats in the documentation: https://pandas.pydata.org/pandas-docs/stable/user_guide/indexing.html#returning-a-view-versus-a-copy\n",
      "  team_style['Att 3rd tackles'] = team_style['Att 3rd'] / (team_style['Def 3rd'] + team_style['Mid 3rd'] + team_style['Att 3rd'])\n",
      "C:\\Users\\Louis\\AppData\\Local\\Temp\\ipykernel_3196\\2876549013.py:15: SettingWithCopyWarning: \n",
      "A value is trying to be set on a copy of a slice from a DataFrame.\n",
      "Try using .loc[row_indexer,col_indexer] = value instead\n",
      "\n",
      "See the caveats in the documentation: https://pandas.pydata.org/pandas-docs/stable/user_guide/indexing.html#returning-a-view-versus-a-copy\n",
      "  team_style['Defensive height'] = (team_style['Def 3rd tackles']*16.5*1.1) + (team_style['Mid 3rd tackles']*49.5*1.1) + (team_style['Att 3rd tackles']*82.5*1.1)\n"
     ]
    },
    {
     "data": {
      "text/html": [
       "<div>\n",
       "<style scoped>\n",
       "    .dataframe tbody tr th:only-of-type {\n",
       "        vertical-align: middle;\n",
       "    }\n",
       "\n",
       "    .dataframe tbody tr th {\n",
       "        vertical-align: top;\n",
       "    }\n",
       "\n",
       "    .dataframe thead th {\n",
       "        text-align: right;\n",
       "    }\n",
       "</style>\n",
       "<table border=\"1\" class=\"dataframe\">\n",
       "  <thead>\n",
       "    <tr style=\"text-align: right;\">\n",
       "      <th></th>\n",
       "      <th>Squad</th>\n",
       "      <th>Poss</th>\n",
       "      <th>Def 3rd</th>\n",
       "      <th>Mid 3rd</th>\n",
       "      <th>Att 3rd</th>\n",
       "      <th>Possession</th>\n",
       "      <th>Press intensity</th>\n",
       "      <th>Press resistance</th>\n",
       "      <th>Field tilt</th>\n",
       "      <th>Tempo</th>\n",
       "      <th>Directness</th>\n",
       "      <th>Crossing</th>\n",
       "      <th>Set pieces</th>\n",
       "      <th>npxG per shot</th>\n",
       "      <th>Def 3rd tackles</th>\n",
       "      <th>Mid 3rd tackles</th>\n",
       "      <th>Att 3rd tackles</th>\n",
       "      <th>Defensive height</th>\n",
       "    </tr>\n",
       "  </thead>\n",
       "  <tbody>\n",
       "    <tr>\n",
       "      <th>0</th>\n",
       "      <td>Alavés</td>\n",
       "      <td>42.2</td>\n",
       "      <td>159</td>\n",
       "      <td>132</td>\n",
       "      <td>38</td>\n",
       "      <td>42.2</td>\n",
       "      <td>14.068345</td>\n",
       "      <td>10.488608</td>\n",
       "      <td>45.889289</td>\n",
       "      <td>77.883260</td>\n",
       "      <td>43.449198</td>\n",
       "      <td>2.64</td>\n",
       "      <td>46</td>\n",
       "      <td>9.0</td>\n",
       "      <td>0.483283</td>\n",
       "      <td>0.401216</td>\n",
       "      <td>0.115502</td>\n",
       "      <td>41.099544</td>\n",
       "    </tr>\n",
       "    <tr>\n",
       "      <th>1</th>\n",
       "      <td>Almería</td>\n",
       "      <td>47.6</td>\n",
       "      <td>211</td>\n",
       "      <td>138</td>\n",
       "      <td>35</td>\n",
       "      <td>47.6</td>\n",
       "      <td>11.772026</td>\n",
       "      <td>11.434679</td>\n",
       "      <td>41.324815</td>\n",
       "      <td>79.920312</td>\n",
       "      <td>37.244860</td>\n",
       "      <td>2.55</td>\n",
       "      <td>44</td>\n",
       "      <td>10.0</td>\n",
       "      <td>0.549479</td>\n",
       "      <td>0.359375</td>\n",
       "      <td>0.091146</td>\n",
       "      <td>37.812500</td>\n",
       "    </tr>\n",
       "    <tr>\n",
       "      <th>2</th>\n",
       "      <td>Arsenal</td>\n",
       "      <td>60.3</td>\n",
       "      <td>143</td>\n",
       "      <td>145</td>\n",
       "      <td>59</td>\n",
       "      <td>60.3</td>\n",
       "      <td>10.323926</td>\n",
       "      <td>14.119337</td>\n",
       "      <td>70.549159</td>\n",
       "      <td>85.609004</td>\n",
       "      <td>31.852391</td>\n",
       "      <td>2.00</td>\n",
       "      <td>49</td>\n",
       "      <td>11.0</td>\n",
       "      <td>0.412104</td>\n",
       "      <td>0.417867</td>\n",
       "      <td>0.170029</td>\n",
       "      <td>45.662680</td>\n",
       "    </tr>\n",
       "    <tr>\n",
       "      <th>3</th>\n",
       "      <td>Aston Villa</td>\n",
       "      <td>55.2</td>\n",
       "      <td>156</td>\n",
       "      <td>127</td>\n",
       "      <td>35</td>\n",
       "      <td>55.2</td>\n",
       "      <td>11.720930</td>\n",
       "      <td>11.242549</td>\n",
       "      <td>56.961143</td>\n",
       "      <td>83.798070</td>\n",
       "      <td>33.891974</td>\n",
       "      <td>2.05</td>\n",
       "      <td>45</td>\n",
       "      <td>12.0</td>\n",
       "      <td>0.490566</td>\n",
       "      <td>0.399371</td>\n",
       "      <td>0.110063</td>\n",
       "      <td>40.637736</td>\n",
       "    </tr>\n",
       "    <tr>\n",
       "      <th>4</th>\n",
       "      <td>Atalanta</td>\n",
       "      <td>50.9</td>\n",
       "      <td>146</td>\n",
       "      <td>129</td>\n",
       "      <td>42</td>\n",
       "      <td>50.9</td>\n",
       "      <td>12.418293</td>\n",
       "      <td>13.097136</td>\n",
       "      <td>56.620923</td>\n",
       "      <td>82.402257</td>\n",
       "      <td>36.008625</td>\n",
       "      <td>2.85</td>\n",
       "      <td>43</td>\n",
       "      <td>10.0</td>\n",
       "      <td>0.460568</td>\n",
       "      <td>0.406940</td>\n",
       "      <td>0.132492</td>\n",
       "      <td>42.540852</td>\n",
       "    </tr>\n",
       "  </tbody>\n",
       "</table>\n",
       "</div>"
      ],
      "text/plain": [
       "         Squad  Poss  Def 3rd  Mid 3rd  Att 3rd  Possession  Press intensity  \\\n",
       "0       Alavés  42.2      159      132       38        42.2        14.068345   \n",
       "1      Almería  47.6      211      138       35        47.6        11.772026   \n",
       "2      Arsenal  60.3      143      145       59        60.3        10.323926   \n",
       "3  Aston Villa  55.2      156      127       35        55.2        11.720930   \n",
       "4     Atalanta  50.9      146      129       42        50.9        12.418293   \n",
       "\n",
       "   Press resistance  Field tilt      Tempo  Directness  Crossing  Set pieces  \\\n",
       "0         10.488608   45.889289  77.883260   43.449198      2.64          46   \n",
       "1         11.434679   41.324815  79.920312   37.244860      2.55          44   \n",
       "2         14.119337   70.549159  85.609004   31.852391      2.00          49   \n",
       "3         11.242549   56.961143  83.798070   33.891974      2.05          45   \n",
       "4         13.097136   56.620923  82.402257   36.008625      2.85          43   \n",
       "\n",
       "   npxG per shot  Def 3rd tackles  Mid 3rd tackles  Att 3rd tackles  \\\n",
       "0            9.0         0.483283         0.401216         0.115502   \n",
       "1           10.0         0.549479         0.359375         0.091146   \n",
       "2           11.0         0.412104         0.417867         0.170029   \n",
       "3           12.0         0.490566         0.399371         0.110063   \n",
       "4           10.0         0.460568         0.406940         0.132492   \n",
       "\n",
       "   Defensive height  \n",
       "0         41.099544  \n",
       "1         37.812500  \n",
       "2         45.662680  \n",
       "3         40.637736  \n",
       "4         42.540852  "
      ]
     },
     "execution_count": 9,
     "metadata": {},
     "output_type": "execute_result"
    }
   ],
   "source": [
    "#setup metrics\n",
    "team_style = stanpascatpo[['Squad','Poss','Def 3rd','Mid 3rd','Att 3rd']]\n",
    "team_style['Possession'] = stanpascatpo['Poss']\n",
    "team_style['Press intensity'] = stanpascatpo['Att_1_opp']/(stanpascatpo['Tkl+Int']+stanpascatpo['Att'])\n",
    "team_style['Press resistance'] = stanpascatpo['Att_1']/(stanpascatpo['Tkl+Int_opp']+stanpascatpo['Att_opp'])\n",
    "team_style['Field tilt'] = stanpascatpo['Att 3rd touch']/(stanpascatpo['Att 3rd touch']+stanpascatpo['Att 3rd touch_opp'])*100\n",
    "team_style['Tempo'] = stanpascatpo['Att_1']*100/stanpascatpo['Touches']\n",
    "team_style['Directness'] = stanpascatpo['PrgDist']*100/stanpascatpo['TotDist']\n",
    "team_style['Crossing'] = stanpascatpo['Crs90']\n",
    "team_style['Set pieces'] = stanpascatpo['PassDead_1']\n",
    "team_style['npxG per shot'] = stanpascatpo['npxG/Sh']\n",
    "team_style['Def 3rd tackles'] = team_style['Def 3rd'] / (team_style['Def 3rd'] + team_style['Mid 3rd'] + team_style['Att 3rd']) \n",
    "team_style['Mid 3rd tackles'] = team_style['Mid 3rd'] / (team_style['Def 3rd'] + team_style['Mid 3rd'] + team_style['Att 3rd']) \n",
    "team_style['Att 3rd tackles'] = team_style['Att 3rd'] / (team_style['Def 3rd'] + team_style['Mid 3rd'] + team_style['Att 3rd']) \n",
    "team_style['Defensive height'] = (team_style['Def 3rd tackles']*16.5*1.1) + (team_style['Mid 3rd tackles']*49.5*1.1) + (team_style['Att 3rd tackles']*82.5*1.1)\n",
    "team_style.head()"
   ]
  },
  {
   "cell_type": "code",
   "execution_count": 10,
   "id": "48a0b7ac",
   "metadata": {},
   "outputs": [
    {
     "data": {
      "text/html": [
       "<div>\n",
       "<style scoped>\n",
       "    .dataframe tbody tr th:only-of-type {\n",
       "        vertical-align: middle;\n",
       "    }\n",
       "\n",
       "    .dataframe tbody tr th {\n",
       "        vertical-align: top;\n",
       "    }\n",
       "\n",
       "    .dataframe thead th {\n",
       "        text-align: right;\n",
       "    }\n",
       "</style>\n",
       "<table border=\"1\" class=\"dataframe\">\n",
       "  <thead>\n",
       "    <tr style=\"text-align: right;\">\n",
       "      <th></th>\n",
       "      <th>Squad</th>\n",
       "      <th>Possession</th>\n",
       "      <th>Press intensity</th>\n",
       "      <th>Press resistance</th>\n",
       "      <th>Field tilt</th>\n",
       "      <th>Tempo</th>\n",
       "      <th>Directness</th>\n",
       "      <th>Crossing</th>\n",
       "      <th>Set pieces</th>\n",
       "      <th>npxG per shot</th>\n",
       "      <th>Defensive height</th>\n",
       "    </tr>\n",
       "  </thead>\n",
       "  <tbody>\n",
       "    <tr>\n",
       "      <th>0</th>\n",
       "      <td>Alavés</td>\n",
       "      <td>42.2</td>\n",
       "      <td>14.068345</td>\n",
       "      <td>10.488608</td>\n",
       "      <td>45.889289</td>\n",
       "      <td>77.883260</td>\n",
       "      <td>43.449198</td>\n",
       "      <td>2.64</td>\n",
       "      <td>46</td>\n",
       "      <td>9.0</td>\n",
       "      <td>41.099544</td>\n",
       "    </tr>\n",
       "    <tr>\n",
       "      <th>1</th>\n",
       "      <td>Almería</td>\n",
       "      <td>47.6</td>\n",
       "      <td>11.772026</td>\n",
       "      <td>11.434679</td>\n",
       "      <td>41.324815</td>\n",
       "      <td>79.920312</td>\n",
       "      <td>37.244860</td>\n",
       "      <td>2.55</td>\n",
       "      <td>44</td>\n",
       "      <td>10.0</td>\n",
       "      <td>37.812500</td>\n",
       "    </tr>\n",
       "    <tr>\n",
       "      <th>2</th>\n",
       "      <td>Arsenal</td>\n",
       "      <td>60.3</td>\n",
       "      <td>10.323926</td>\n",
       "      <td>14.119337</td>\n",
       "      <td>70.549159</td>\n",
       "      <td>85.609004</td>\n",
       "      <td>31.852391</td>\n",
       "      <td>2.00</td>\n",
       "      <td>49</td>\n",
       "      <td>11.0</td>\n",
       "      <td>45.662680</td>\n",
       "    </tr>\n",
       "    <tr>\n",
       "      <th>3</th>\n",
       "      <td>Aston Villa</td>\n",
       "      <td>55.2</td>\n",
       "      <td>11.720930</td>\n",
       "      <td>11.242549</td>\n",
       "      <td>56.961143</td>\n",
       "      <td>83.798070</td>\n",
       "      <td>33.891974</td>\n",
       "      <td>2.05</td>\n",
       "      <td>45</td>\n",
       "      <td>12.0</td>\n",
       "      <td>40.637736</td>\n",
       "    </tr>\n",
       "    <tr>\n",
       "      <th>4</th>\n",
       "      <td>Atalanta</td>\n",
       "      <td>50.9</td>\n",
       "      <td>12.418293</td>\n",
       "      <td>13.097136</td>\n",
       "      <td>56.620923</td>\n",
       "      <td>82.402257</td>\n",
       "      <td>36.008625</td>\n",
       "      <td>2.85</td>\n",
       "      <td>43</td>\n",
       "      <td>10.0</td>\n",
       "      <td>42.540852</td>\n",
       "    </tr>\n",
       "  </tbody>\n",
       "</table>\n",
       "</div>"
      ],
      "text/plain": [
       "         Squad  Possession  Press intensity  Press resistance  Field tilt  \\\n",
       "0       Alavés        42.2        14.068345         10.488608   45.889289   \n",
       "1      Almería        47.6        11.772026         11.434679   41.324815   \n",
       "2      Arsenal        60.3        10.323926         14.119337   70.549159   \n",
       "3  Aston Villa        55.2        11.720930         11.242549   56.961143   \n",
       "4     Atalanta        50.9        12.418293         13.097136   56.620923   \n",
       "\n",
       "       Tempo  Directness  Crossing  Set pieces  npxG per shot  \\\n",
       "0  77.883260   43.449198      2.64          46            9.0   \n",
       "1  79.920312   37.244860      2.55          44           10.0   \n",
       "2  85.609004   31.852391      2.00          49           11.0   \n",
       "3  83.798070   33.891974      2.05          45           12.0   \n",
       "4  82.402257   36.008625      2.85          43           10.0   \n",
       "\n",
       "   Defensive height  \n",
       "0         41.099544  \n",
       "1         37.812500  \n",
       "2         45.662680  \n",
       "3         40.637736  \n",
       "4         42.540852  "
      ]
     },
     "execution_count": 10,
     "metadata": {},
     "output_type": "execute_result"
    }
   ],
   "source": [
    "final_styles = team_style[['Squad','Possession','Press intensity','Press resistance','Field tilt','Tempo','Directness','Crossing','Set pieces','npxG per shot','Defensive height']]\n",
    "final_styles.head()"
   ]
  },
  {
   "cell_type": "code",
   "execution_count": 11,
   "id": "29eec379",
   "metadata": {},
   "outputs": [
    {
     "name": "stderr",
     "output_type": "stream",
     "text": [
      "C:\\Users\\Louis\\AppData\\Local\\Temp\\ipykernel_3196\\4210282085.py:5: SettingWithCopyWarning: \n",
      "A value is trying to be set on a copy of a slice from a DataFrame.\n",
      "Try using .loc[row_indexer,col_indexer] = value instead\n",
      "\n",
      "See the caveats in the documentation: https://pandas.pydata.org/pandas-docs/stable/user_guide/indexing.html#returning-a-view-versus-a-copy\n",
      "  df[column] = (df[column]*100) / (df[column].max())\n",
      "C:\\Users\\Louis\\AppData\\Local\\Temp\\ipykernel_3196\\4210282085.py:7: SettingWithCopyWarning: \n",
      "A value is trying to be set on a copy of a slice from a DataFrame.\n",
      "Try using .loc[row_indexer,col_indexer] = value instead\n",
      "\n",
      "See the caveats in the documentation: https://pandas.pydata.org/pandas-docs/stable/user_guide/indexing.html#returning-a-view-versus-a-copy\n",
      "  df['Press intensity'] = (df['Press intensity'].min()*100) / (df['Press intensity'])\n"
     ]
    }
   ],
   "source": [
    "def data_normalization(df):\n",
    "  columns = ['Set pieces','Crossing', 'Press resistance','npxG per shot']\n",
    "  \n",
    "  for column in columns:\n",
    "    df[column] = (df[column]*100) / (df[column].max())\n",
    "\n",
    "  df['Press intensity'] = (df['Press intensity'].min()*100) / (df['Press intensity'])\n",
    "\n",
    "  return final_styles\n",
    "\n",
    "final_styles = data_normalization(final_styles)"
   ]
  },
  {
   "cell_type": "code",
   "execution_count": 12,
   "id": "aa761aca",
   "metadata": {},
   "outputs": [
    {
     "data": {
      "text/html": [
       "<div>\n",
       "<style scoped>\n",
       "    .dataframe tbody tr th:only-of-type {\n",
       "        vertical-align: middle;\n",
       "    }\n",
       "\n",
       "    .dataframe tbody tr th {\n",
       "        vertical-align: top;\n",
       "    }\n",
       "\n",
       "    .dataframe thead th {\n",
       "        text-align: right;\n",
       "    }\n",
       "</style>\n",
       "<table border=\"1\" class=\"dataframe\">\n",
       "  <thead>\n",
       "    <tr style=\"text-align: right;\">\n",
       "      <th></th>\n",
       "      <th>Squad</th>\n",
       "      <th>Possession</th>\n",
       "      <th>Press intensity</th>\n",
       "      <th>Press resistance</th>\n",
       "      <th>Field tilt</th>\n",
       "      <th>Tempo</th>\n",
       "      <th>Directness</th>\n",
       "      <th>Crossing</th>\n",
       "      <th>Set pieces</th>\n",
       "      <th>npxG per shot</th>\n",
       "      <th>Defensive height</th>\n",
       "    </tr>\n",
       "  </thead>\n",
       "  <tbody>\n",
       "    <tr>\n",
       "      <th>0</th>\n",
       "      <td>Alavés</td>\n",
       "      <td>42.2</td>\n",
       "      <td>61.020362</td>\n",
       "      <td>57.225451</td>\n",
       "      <td>45.889289</td>\n",
       "      <td>77.883260</td>\n",
       "      <td>43.449198</td>\n",
       "      <td>56.531049</td>\n",
       "      <td>71.8750</td>\n",
       "      <td>64.285714</td>\n",
       "      <td>41.099544</td>\n",
       "    </tr>\n",
       "    <tr>\n",
       "      <th>1</th>\n",
       "      <td>Almería</td>\n",
       "      <td>47.6</td>\n",
       "      <td>72.923343</td>\n",
       "      <td>62.387183</td>\n",
       "      <td>41.324815</td>\n",
       "      <td>79.920312</td>\n",
       "      <td>37.244860</td>\n",
       "      <td>54.603854</td>\n",
       "      <td>68.7500</td>\n",
       "      <td>71.428571</td>\n",
       "      <td>37.812500</td>\n",
       "    </tr>\n",
       "    <tr>\n",
       "      <th>2</th>\n",
       "      <td>Arsenal</td>\n",
       "      <td>60.3</td>\n",
       "      <td>83.152038</td>\n",
       "      <td>77.034575</td>\n",
       "      <td>70.549159</td>\n",
       "      <td>85.609004</td>\n",
       "      <td>31.852391</td>\n",
       "      <td>42.826552</td>\n",
       "      <td>76.5625</td>\n",
       "      <td>78.571429</td>\n",
       "      <td>45.662680</td>\n",
       "    </tr>\n",
       "    <tr>\n",
       "      <th>3</th>\n",
       "      <td>Aston Villa</td>\n",
       "      <td>55.2</td>\n",
       "      <td>73.241245</td>\n",
       "      <td>61.338926</td>\n",
       "      <td>56.961143</td>\n",
       "      <td>83.798070</td>\n",
       "      <td>33.891974</td>\n",
       "      <td>43.897216</td>\n",
       "      <td>70.3125</td>\n",
       "      <td>85.714286</td>\n",
       "      <td>40.637736</td>\n",
       "    </tr>\n",
       "    <tr>\n",
       "      <th>4</th>\n",
       "      <td>Atalanta</td>\n",
       "      <td>50.9</td>\n",
       "      <td>69.128305</td>\n",
       "      <td>71.457483</td>\n",
       "      <td>56.620923</td>\n",
       "      <td>82.402257</td>\n",
       "      <td>36.008625</td>\n",
       "      <td>61.027837</td>\n",
       "      <td>67.1875</td>\n",
       "      <td>71.428571</td>\n",
       "      <td>42.540852</td>\n",
       "    </tr>\n",
       "  </tbody>\n",
       "</table>\n",
       "</div>"
      ],
      "text/plain": [
       "         Squad  Possession  Press intensity  Press resistance  Field tilt  \\\n",
       "0       Alavés        42.2        61.020362         57.225451   45.889289   \n",
       "1      Almería        47.6        72.923343         62.387183   41.324815   \n",
       "2      Arsenal        60.3        83.152038         77.034575   70.549159   \n",
       "3  Aston Villa        55.2        73.241245         61.338926   56.961143   \n",
       "4     Atalanta        50.9        69.128305         71.457483   56.620923   \n",
       "\n",
       "       Tempo  Directness   Crossing  Set pieces  npxG per shot  \\\n",
       "0  77.883260   43.449198  56.531049     71.8750      64.285714   \n",
       "1  79.920312   37.244860  54.603854     68.7500      71.428571   \n",
       "2  85.609004   31.852391  42.826552     76.5625      78.571429   \n",
       "3  83.798070   33.891974  43.897216     70.3125      85.714286   \n",
       "4  82.402257   36.008625  61.027837     67.1875      71.428571   \n",
       "\n",
       "   Defensive height  \n",
       "0         41.099544  \n",
       "1         37.812500  \n",
       "2         45.662680  \n",
       "3         40.637736  \n",
       "4         42.540852  "
      ]
     },
     "execution_count": 12,
     "metadata": {},
     "output_type": "execute_result"
    }
   ],
   "source": [
    "final_styles.head()"
   ]
  },
  {
   "cell_type": "code",
   "execution_count": 13,
   "id": "7bf19c2a",
   "metadata": {},
   "outputs": [
    {
     "data": {
      "text/html": [
       "<div>\n",
       "<style scoped>\n",
       "    .dataframe tbody tr th:only-of-type {\n",
       "        vertical-align: middle;\n",
       "    }\n",
       "\n",
       "    .dataframe tbody tr th {\n",
       "        vertical-align: top;\n",
       "    }\n",
       "\n",
       "    .dataframe thead th {\n",
       "        text-align: right;\n",
       "    }\n",
       "</style>\n",
       "<table border=\"1\" class=\"dataframe\">\n",
       "  <thead>\n",
       "    <tr style=\"text-align: right;\">\n",
       "      <th></th>\n",
       "      <th>Squad</th>\n",
       "      <th>Possession</th>\n",
       "      <th>Press intensity</th>\n",
       "      <th>Press resistance</th>\n",
       "      <th>Field tilt</th>\n",
       "      <th>Tempo</th>\n",
       "      <th>Directness</th>\n",
       "      <th>Crossing</th>\n",
       "      <th>Set pieces</th>\n",
       "      <th>npxG per shot</th>\n",
       "      <th>Defensive height</th>\n",
       "    </tr>\n",
       "  </thead>\n",
       "  <tbody>\n",
       "    <tr>\n",
       "      <th>0</th>\n",
       "      <td>Bournemouth</td>\n",
       "      <td>44.0</td>\n",
       "      <td>73.480642</td>\n",
       "      <td>45.227199</td>\n",
       "      <td>45.423674</td>\n",
       "      <td>77.113383</td>\n",
       "      <td>36.991375</td>\n",
       "      <td>48.822270</td>\n",
       "      <td>56.25</td>\n",
       "      <td>78.571429</td>\n",
       "      <td>42.895623</td>\n",
       "    </tr>\n",
       "    <tr>\n",
       "      <th>1</th>\n",
       "      <td>West Ham</td>\n",
       "      <td>40.7</td>\n",
       "      <td>57.590712</td>\n",
       "      <td>61.071798</td>\n",
       "      <td>35.031573</td>\n",
       "      <td>78.658695</td>\n",
       "      <td>39.001649</td>\n",
       "      <td>34.689507</td>\n",
       "      <td>87.50</td>\n",
       "      <td>85.714286</td>\n",
       "      <td>39.316757</td>\n",
       "    </tr>\n",
       "  </tbody>\n",
       "</table>\n",
       "</div>"
      ],
      "text/plain": [
       "         Squad  Possession  Press intensity  Press resistance  Field tilt  \\\n",
       "0  Bournemouth        44.0        73.480642         45.227199   45.423674   \n",
       "1     West Ham        40.7        57.590712         61.071798   35.031573   \n",
       "\n",
       "       Tempo  Directness   Crossing  Set pieces  npxG per shot  \\\n",
       "0  77.113383   36.991375  48.822270       56.25      78.571429   \n",
       "1  78.658695   39.001649  34.689507       87.50      85.714286   \n",
       "\n",
       "   Defensive height  \n",
       "0         42.895623  \n",
       "1         39.316757  "
      ]
     },
     "execution_count": 13,
     "metadata": {},
     "output_type": "execute_result"
    }
   ],
   "source": [
    "#select teams\n",
    "final_styles = final_styles[(final_styles['Squad']=='West Ham') | (final_styles['Squad']=='Bournemouth')].reset_index()\n",
    "final_styles = final_styles.drop(['index'],axis=1)\n",
    "final_styles"
   ]
  },
  {
   "cell_type": "code",
   "execution_count": 14,
   "id": "b0faa6ef",
   "metadata": {},
   "outputs": [
    {
     "data": {
      "text/plain": [
       "['Possession',\n",
       " 'Press intensity',\n",
       " 'Press resistance',\n",
       " 'Field tilt',\n",
       " 'Tempo',\n",
       " 'Directness',\n",
       " 'Crossing',\n",
       " 'Set pieces',\n",
       " 'npxG per shot',\n",
       " 'Defensive height']"
      ]
     },
     "execution_count": 14,
     "metadata": {},
     "output_type": "execute_result"
    }
   ],
   "source": [
    "params = list(final_styles.columns)\n",
    "params = params[1:]\n",
    "params"
   ]
  },
  {
   "cell_type": "code",
   "execution_count": 49,
   "id": "7ba5b669",
   "metadata": {},
   "outputs": [],
   "source": [
    "ranges = []\n",
    "a_values = []\n",
    "b_values = []\n",
    "\n",
    "for x in params:\n",
    "    a = min(final_styles[params][x])\n",
    "    a = a - (a*.15)\n",
    "    \n",
    "    b = max(final_styles[params][x])\n",
    "    b = b + (b*.15)\n",
    "    \n",
    "    ranges.append((a,b))\n",
    "    \n",
    "for x in range(len(final_styles['Squad'])):\n",
    "    if final_styles['Squad'][x] == 'West Ham':\n",
    "        a_values = final_styles.iloc[x].values.tolist()\n",
    "    if final_styles['Squad'][x] == 'Bournemouth':\n",
    "        b_values = final_styles.iloc[x].values.tolist()\n",
    "        \n",
    "a_values = a_values[1:]\n",
    "b_values = b_values[1:]"
   ]
  },
  {
   "cell_type": "code",
   "execution_count": 90,
   "id": "abda5f1a",
   "metadata": {},
   "outputs": [
    {
     "data": {
      "application/vnd.plotly.v1+json": {
       "config": {
        "plotlyServerURL": "https://plot.ly"
       },
       "data": [
        {
         "fill": "tonext",
         "fillcolor": "red",
         "line": {
          "color": "black"
         },
         "name": "Bournemouth",
         "opacity": 0.65,
         "r": [
          44,
          73.48064247087626,
          45.22719919349966,
          45.42367399741268,
          77.11338323899945,
          36.991374936580414,
          48.822269807280506,
          56.25,
          78.57142857142856,
          42.89562334217507
         ],
         "theta": [
          "Possession",
          "Press intensity",
          "Press resistance",
          "Field tilt",
          "Tempo",
          "Directness",
          "Crossing",
          "Set pieces",
          "npxG per shot",
          "Defensive height"
         ],
         "type": "scatterpolar"
        },
        {
         "fill": "toself",
         "fillcolor": "#80002a",
         "line": {
          "color": "#4db8ff"
         },
         "name": "West Ham",
         "opacity": 0.8,
         "r": [
          40.7,
          57.5907123198882,
          61.07179823798454,
          35.03157290470723,
          78.65869508708084,
          39.001649221926485,
          34.68950749464668,
          87.5,
          85.71428571428571,
          39.316757493188014
         ],
         "theta": [
          "Possession",
          "Press intensity",
          "Press resistance",
          "Field tilt",
          "Tempo",
          "Directness",
          "Crossing",
          "Set pieces",
          "npxG per shot",
          "Defensive height"
         ],
         "type": "scatterpolar"
        }
       ],
       "layout": {
        "font": {
         "family": "tahoma",
         "size": 18
        },
        "height": 800,
        "plot_bgcolor": "#b3ffb3",
        "polar": {
         "radialaxis": {
          "range": [
           10,
           100
          ],
          "visible": false
         }
        },
        "showlegend": false,
        "template": {
         "data": {
          "bar": [
           {
            "error_x": {
             "color": "#2a3f5f"
            },
            "error_y": {
             "color": "#2a3f5f"
            },
            "marker": {
             "line": {
              "color": "#E5ECF6",
              "width": 0.5
             },
             "pattern": {
              "fillmode": "overlay",
              "size": 10,
              "solidity": 0.2
             }
            },
            "type": "bar"
           }
          ],
          "barpolar": [
           {
            "marker": {
             "line": {
              "color": "#E5ECF6",
              "width": 0.5
             },
             "pattern": {
              "fillmode": "overlay",
              "size": 10,
              "solidity": 0.2
             }
            },
            "type": "barpolar"
           }
          ],
          "carpet": [
           {
            "aaxis": {
             "endlinecolor": "#2a3f5f",
             "gridcolor": "white",
             "linecolor": "white",
             "minorgridcolor": "white",
             "startlinecolor": "#2a3f5f"
            },
            "baxis": {
             "endlinecolor": "#2a3f5f",
             "gridcolor": "white",
             "linecolor": "white",
             "minorgridcolor": "white",
             "startlinecolor": "#2a3f5f"
            },
            "type": "carpet"
           }
          ],
          "choropleth": [
           {
            "colorbar": {
             "outlinewidth": 0,
             "ticks": ""
            },
            "type": "choropleth"
           }
          ],
          "contour": [
           {
            "colorbar": {
             "outlinewidth": 0,
             "ticks": ""
            },
            "colorscale": [
             [
              0,
              "#0d0887"
             ],
             [
              0.1111111111111111,
              "#46039f"
             ],
             [
              0.2222222222222222,
              "#7201a8"
             ],
             [
              0.3333333333333333,
              "#9c179e"
             ],
             [
              0.4444444444444444,
              "#bd3786"
             ],
             [
              0.5555555555555556,
              "#d8576b"
             ],
             [
              0.6666666666666666,
              "#ed7953"
             ],
             [
              0.7777777777777778,
              "#fb9f3a"
             ],
             [
              0.8888888888888888,
              "#fdca26"
             ],
             [
              1,
              "#f0f921"
             ]
            ],
            "type": "contour"
           }
          ],
          "contourcarpet": [
           {
            "colorbar": {
             "outlinewidth": 0,
             "ticks": ""
            },
            "type": "contourcarpet"
           }
          ],
          "heatmap": [
           {
            "colorbar": {
             "outlinewidth": 0,
             "ticks": ""
            },
            "colorscale": [
             [
              0,
              "#0d0887"
             ],
             [
              0.1111111111111111,
              "#46039f"
             ],
             [
              0.2222222222222222,
              "#7201a8"
             ],
             [
              0.3333333333333333,
              "#9c179e"
             ],
             [
              0.4444444444444444,
              "#bd3786"
             ],
             [
              0.5555555555555556,
              "#d8576b"
             ],
             [
              0.6666666666666666,
              "#ed7953"
             ],
             [
              0.7777777777777778,
              "#fb9f3a"
             ],
             [
              0.8888888888888888,
              "#fdca26"
             ],
             [
              1,
              "#f0f921"
             ]
            ],
            "type": "heatmap"
           }
          ],
          "heatmapgl": [
           {
            "colorbar": {
             "outlinewidth": 0,
             "ticks": ""
            },
            "colorscale": [
             [
              0,
              "#0d0887"
             ],
             [
              0.1111111111111111,
              "#46039f"
             ],
             [
              0.2222222222222222,
              "#7201a8"
             ],
             [
              0.3333333333333333,
              "#9c179e"
             ],
             [
              0.4444444444444444,
              "#bd3786"
             ],
             [
              0.5555555555555556,
              "#d8576b"
             ],
             [
              0.6666666666666666,
              "#ed7953"
             ],
             [
              0.7777777777777778,
              "#fb9f3a"
             ],
             [
              0.8888888888888888,
              "#fdca26"
             ],
             [
              1,
              "#f0f921"
             ]
            ],
            "type": "heatmapgl"
           }
          ],
          "histogram": [
           {
            "marker": {
             "pattern": {
              "fillmode": "overlay",
              "size": 10,
              "solidity": 0.2
             }
            },
            "type": "histogram"
           }
          ],
          "histogram2d": [
           {
            "colorbar": {
             "outlinewidth": 0,
             "ticks": ""
            },
            "colorscale": [
             [
              0,
              "#0d0887"
             ],
             [
              0.1111111111111111,
              "#46039f"
             ],
             [
              0.2222222222222222,
              "#7201a8"
             ],
             [
              0.3333333333333333,
              "#9c179e"
             ],
             [
              0.4444444444444444,
              "#bd3786"
             ],
             [
              0.5555555555555556,
              "#d8576b"
             ],
             [
              0.6666666666666666,
              "#ed7953"
             ],
             [
              0.7777777777777778,
              "#fb9f3a"
             ],
             [
              0.8888888888888888,
              "#fdca26"
             ],
             [
              1,
              "#f0f921"
             ]
            ],
            "type": "histogram2d"
           }
          ],
          "histogram2dcontour": [
           {
            "colorbar": {
             "outlinewidth": 0,
             "ticks": ""
            },
            "colorscale": [
             [
              0,
              "#0d0887"
             ],
             [
              0.1111111111111111,
              "#46039f"
             ],
             [
              0.2222222222222222,
              "#7201a8"
             ],
             [
              0.3333333333333333,
              "#9c179e"
             ],
             [
              0.4444444444444444,
              "#bd3786"
             ],
             [
              0.5555555555555556,
              "#d8576b"
             ],
             [
              0.6666666666666666,
              "#ed7953"
             ],
             [
              0.7777777777777778,
              "#fb9f3a"
             ],
             [
              0.8888888888888888,
              "#fdca26"
             ],
             [
              1,
              "#f0f921"
             ]
            ],
            "type": "histogram2dcontour"
           }
          ],
          "mesh3d": [
           {
            "colorbar": {
             "outlinewidth": 0,
             "ticks": ""
            },
            "type": "mesh3d"
           }
          ],
          "parcoords": [
           {
            "line": {
             "colorbar": {
              "outlinewidth": 0,
              "ticks": ""
             }
            },
            "type": "parcoords"
           }
          ],
          "pie": [
           {
            "automargin": true,
            "type": "pie"
           }
          ],
          "scatter": [
           {
            "fillpattern": {
             "fillmode": "overlay",
             "size": 10,
             "solidity": 0.2
            },
            "type": "scatter"
           }
          ],
          "scatter3d": [
           {
            "line": {
             "colorbar": {
              "outlinewidth": 0,
              "ticks": ""
             }
            },
            "marker": {
             "colorbar": {
              "outlinewidth": 0,
              "ticks": ""
             }
            },
            "type": "scatter3d"
           }
          ],
          "scattercarpet": [
           {
            "marker": {
             "colorbar": {
              "outlinewidth": 0,
              "ticks": ""
             }
            },
            "type": "scattercarpet"
           }
          ],
          "scattergeo": [
           {
            "marker": {
             "colorbar": {
              "outlinewidth": 0,
              "ticks": ""
             }
            },
            "type": "scattergeo"
           }
          ],
          "scattergl": [
           {
            "marker": {
             "colorbar": {
              "outlinewidth": 0,
              "ticks": ""
             }
            },
            "type": "scattergl"
           }
          ],
          "scattermapbox": [
           {
            "marker": {
             "colorbar": {
              "outlinewidth": 0,
              "ticks": ""
             }
            },
            "type": "scattermapbox"
           }
          ],
          "scatterpolar": [
           {
            "marker": {
             "colorbar": {
              "outlinewidth": 0,
              "ticks": ""
             }
            },
            "type": "scatterpolar"
           }
          ],
          "scatterpolargl": [
           {
            "marker": {
             "colorbar": {
              "outlinewidth": 0,
              "ticks": ""
             }
            },
            "type": "scatterpolargl"
           }
          ],
          "scatterternary": [
           {
            "marker": {
             "colorbar": {
              "outlinewidth": 0,
              "ticks": ""
             }
            },
            "type": "scatterternary"
           }
          ],
          "surface": [
           {
            "colorbar": {
             "outlinewidth": 0,
             "ticks": ""
            },
            "colorscale": [
             [
              0,
              "#0d0887"
             ],
             [
              0.1111111111111111,
              "#46039f"
             ],
             [
              0.2222222222222222,
              "#7201a8"
             ],
             [
              0.3333333333333333,
              "#9c179e"
             ],
             [
              0.4444444444444444,
              "#bd3786"
             ],
             [
              0.5555555555555556,
              "#d8576b"
             ],
             [
              0.6666666666666666,
              "#ed7953"
             ],
             [
              0.7777777777777778,
              "#fb9f3a"
             ],
             [
              0.8888888888888888,
              "#fdca26"
             ],
             [
              1,
              "#f0f921"
             ]
            ],
            "type": "surface"
           }
          ],
          "table": [
           {
            "cells": {
             "fill": {
              "color": "#EBF0F8"
             },
             "line": {
              "color": "white"
             }
            },
            "header": {
             "fill": {
              "color": "#C8D4E3"
             },
             "line": {
              "color": "white"
             }
            },
            "type": "table"
           }
          ]
         },
         "layout": {
          "annotationdefaults": {
           "arrowcolor": "#2a3f5f",
           "arrowhead": 0,
           "arrowwidth": 1
          },
          "autotypenumbers": "strict",
          "coloraxis": {
           "colorbar": {
            "outlinewidth": 0,
            "ticks": ""
           }
          },
          "colorscale": {
           "diverging": [
            [
             0,
             "#8e0152"
            ],
            [
             0.1,
             "#c51b7d"
            ],
            [
             0.2,
             "#de77ae"
            ],
            [
             0.3,
             "#f1b6da"
            ],
            [
             0.4,
             "#fde0ef"
            ],
            [
             0.5,
             "#f7f7f7"
            ],
            [
             0.6,
             "#e6f5d0"
            ],
            [
             0.7,
             "#b8e186"
            ],
            [
             0.8,
             "#7fbc41"
            ],
            [
             0.9,
             "#4d9221"
            ],
            [
             1,
             "#276419"
            ]
           ],
           "sequential": [
            [
             0,
             "#0d0887"
            ],
            [
             0.1111111111111111,
             "#46039f"
            ],
            [
             0.2222222222222222,
             "#7201a8"
            ],
            [
             0.3333333333333333,
             "#9c179e"
            ],
            [
             0.4444444444444444,
             "#bd3786"
            ],
            [
             0.5555555555555556,
             "#d8576b"
            ],
            [
             0.6666666666666666,
             "#ed7953"
            ],
            [
             0.7777777777777778,
             "#fb9f3a"
            ],
            [
             0.8888888888888888,
             "#fdca26"
            ],
            [
             1,
             "#f0f921"
            ]
           ],
           "sequentialminus": [
            [
             0,
             "#0d0887"
            ],
            [
             0.1111111111111111,
             "#46039f"
            ],
            [
             0.2222222222222222,
             "#7201a8"
            ],
            [
             0.3333333333333333,
             "#9c179e"
            ],
            [
             0.4444444444444444,
             "#bd3786"
            ],
            [
             0.5555555555555556,
             "#d8576b"
            ],
            [
             0.6666666666666666,
             "#ed7953"
            ],
            [
             0.7777777777777778,
             "#fb9f3a"
            ],
            [
             0.8888888888888888,
             "#fdca26"
            ],
            [
             1,
             "#f0f921"
            ]
           ]
          },
          "colorway": [
           "#636efa",
           "#EF553B",
           "#00cc96",
           "#ab63fa",
           "#FFA15A",
           "#19d3f3",
           "#FF6692",
           "#B6E880",
           "#FF97FF",
           "#FECB52"
          ],
          "font": {
           "color": "#2a3f5f"
          },
          "geo": {
           "bgcolor": "white",
           "lakecolor": "white",
           "landcolor": "#E5ECF6",
           "showlakes": true,
           "showland": true,
           "subunitcolor": "white"
          },
          "hoverlabel": {
           "align": "left"
          },
          "hovermode": "closest",
          "mapbox": {
           "style": "light"
          },
          "paper_bgcolor": "white",
          "plot_bgcolor": "#E5ECF6",
          "polar": {
           "angularaxis": {
            "gridcolor": "white",
            "linecolor": "white",
            "ticks": ""
           },
           "bgcolor": "#E5ECF6",
           "radialaxis": {
            "gridcolor": "white",
            "linecolor": "white",
            "ticks": ""
           }
          },
          "scene": {
           "xaxis": {
            "backgroundcolor": "#E5ECF6",
            "gridcolor": "white",
            "gridwidth": 2,
            "linecolor": "white",
            "showbackground": true,
            "ticks": "",
            "zerolinecolor": "white"
           },
           "yaxis": {
            "backgroundcolor": "#E5ECF6",
            "gridcolor": "white",
            "gridwidth": 2,
            "linecolor": "white",
            "showbackground": true,
            "ticks": "",
            "zerolinecolor": "white"
           },
           "zaxis": {
            "backgroundcolor": "#E5ECF6",
            "gridcolor": "white",
            "gridwidth": 2,
            "linecolor": "white",
            "showbackground": true,
            "ticks": "",
            "zerolinecolor": "white"
           }
          },
          "shapedefaults": {
           "line": {
            "color": "#2a3f5f"
           }
          },
          "ternary": {
           "aaxis": {
            "gridcolor": "white",
            "linecolor": "white",
            "ticks": ""
           },
           "baxis": {
            "gridcolor": "white",
            "linecolor": "white",
            "ticks": ""
           },
           "bgcolor": "#E5ECF6",
           "caxis": {
            "gridcolor": "white",
            "linecolor": "white",
            "ticks": ""
           }
          },
          "title": {
           "x": 0.05
          },
          "xaxis": {
           "automargin": true,
           "gridcolor": "white",
           "linecolor": "white",
           "ticks": "",
           "title": {
            "standoff": 15
           },
           "zerolinecolor": "white",
           "zerolinewidth": 2
          },
          "yaxis": {
           "automargin": true,
           "gridcolor": "white",
           "linecolor": "white",
           "ticks": "",
           "title": {
            "standoff": 15
           },
           "zerolinecolor": "white",
           "zerolinewidth": 2
          }
         }
        },
        "title": {
         "text": "Team styles: West Ham v Bournemouth"
        },
        "width": 950
       }
      },
      "text/html": [
       "<div>                            <div id=\"7f348ef9-b35d-4471-a420-ae467b6181b9\" class=\"plotly-graph-div\" style=\"height:800px; width:950px;\"></div>            <script type=\"text/javascript\">                require([\"plotly\"], function(Plotly) {                    window.PLOTLYENV=window.PLOTLYENV || {};                                    if (document.getElementById(\"7f348ef9-b35d-4471-a420-ae467b6181b9\")) {                    Plotly.newPlot(                        \"7f348ef9-b35d-4471-a420-ae467b6181b9\",                        [{\"fill\":\"tonext\",\"fillcolor\":\"red\",\"line\":{\"color\":\"black\"},\"name\":\"Bournemouth\",\"opacity\":0.65,\"r\":[44.0,73.48064247087626,45.22719919349966,45.42367399741268,77.11338323899945,36.991374936580414,48.822269807280506,56.25,78.57142857142856,42.89562334217507],\"theta\":[\"Possession\",\"Press intensity\",\"Press resistance\",\"Field tilt\",\"Tempo\",\"Directness\",\"Crossing\",\"Set pieces\",\"npxG per shot\",\"Defensive height\"],\"type\":\"scatterpolar\"},{\"fill\":\"toself\",\"fillcolor\":\"#80002a\",\"line\":{\"color\":\"#4db8ff\"},\"name\":\"West Ham\",\"opacity\":0.8,\"r\":[40.7,57.5907123198882,61.07179823798454,35.03157290470723,78.65869508708084,39.001649221926485,34.68950749464668,87.5,85.71428571428571,39.316757493188014],\"theta\":[\"Possession\",\"Press intensity\",\"Press resistance\",\"Field tilt\",\"Tempo\",\"Directness\",\"Crossing\",\"Set pieces\",\"npxG per shot\",\"Defensive height\"],\"type\":\"scatterpolar\"}],                        {\"template\":{\"data\":{\"histogram2dcontour\":[{\"type\":\"histogram2dcontour\",\"colorbar\":{\"outlinewidth\":0,\"ticks\":\"\"},\"colorscale\":[[0.0,\"#0d0887\"],[0.1111111111111111,\"#46039f\"],[0.2222222222222222,\"#7201a8\"],[0.3333333333333333,\"#9c179e\"],[0.4444444444444444,\"#bd3786\"],[0.5555555555555556,\"#d8576b\"],[0.6666666666666666,\"#ed7953\"],[0.7777777777777778,\"#fb9f3a\"],[0.8888888888888888,\"#fdca26\"],[1.0,\"#f0f921\"]]}],\"choropleth\":[{\"type\":\"choropleth\",\"colorbar\":{\"outlinewidth\":0,\"ticks\":\"\"}}],\"histogram2d\":[{\"type\":\"histogram2d\",\"colorbar\":{\"outlinewidth\":0,\"ticks\":\"\"},\"colorscale\":[[0.0,\"#0d0887\"],[0.1111111111111111,\"#46039f\"],[0.2222222222222222,\"#7201a8\"],[0.3333333333333333,\"#9c179e\"],[0.4444444444444444,\"#bd3786\"],[0.5555555555555556,\"#d8576b\"],[0.6666666666666666,\"#ed7953\"],[0.7777777777777778,\"#fb9f3a\"],[0.8888888888888888,\"#fdca26\"],[1.0,\"#f0f921\"]]}],\"heatmap\":[{\"type\":\"heatmap\",\"colorbar\":{\"outlinewidth\":0,\"ticks\":\"\"},\"colorscale\":[[0.0,\"#0d0887\"],[0.1111111111111111,\"#46039f\"],[0.2222222222222222,\"#7201a8\"],[0.3333333333333333,\"#9c179e\"],[0.4444444444444444,\"#bd3786\"],[0.5555555555555556,\"#d8576b\"],[0.6666666666666666,\"#ed7953\"],[0.7777777777777778,\"#fb9f3a\"],[0.8888888888888888,\"#fdca26\"],[1.0,\"#f0f921\"]]}],\"heatmapgl\":[{\"type\":\"heatmapgl\",\"colorbar\":{\"outlinewidth\":0,\"ticks\":\"\"},\"colorscale\":[[0.0,\"#0d0887\"],[0.1111111111111111,\"#46039f\"],[0.2222222222222222,\"#7201a8\"],[0.3333333333333333,\"#9c179e\"],[0.4444444444444444,\"#bd3786\"],[0.5555555555555556,\"#d8576b\"],[0.6666666666666666,\"#ed7953\"],[0.7777777777777778,\"#fb9f3a\"],[0.8888888888888888,\"#fdca26\"],[1.0,\"#f0f921\"]]}],\"contourcarpet\":[{\"type\":\"contourcarpet\",\"colorbar\":{\"outlinewidth\":0,\"ticks\":\"\"}}],\"contour\":[{\"type\":\"contour\",\"colorbar\":{\"outlinewidth\":0,\"ticks\":\"\"},\"colorscale\":[[0.0,\"#0d0887\"],[0.1111111111111111,\"#46039f\"],[0.2222222222222222,\"#7201a8\"],[0.3333333333333333,\"#9c179e\"],[0.4444444444444444,\"#bd3786\"],[0.5555555555555556,\"#d8576b\"],[0.6666666666666666,\"#ed7953\"],[0.7777777777777778,\"#fb9f3a\"],[0.8888888888888888,\"#fdca26\"],[1.0,\"#f0f921\"]]}],\"surface\":[{\"type\":\"surface\",\"colorbar\":{\"outlinewidth\":0,\"ticks\":\"\"},\"colorscale\":[[0.0,\"#0d0887\"],[0.1111111111111111,\"#46039f\"],[0.2222222222222222,\"#7201a8\"],[0.3333333333333333,\"#9c179e\"],[0.4444444444444444,\"#bd3786\"],[0.5555555555555556,\"#d8576b\"],[0.6666666666666666,\"#ed7953\"],[0.7777777777777778,\"#fb9f3a\"],[0.8888888888888888,\"#fdca26\"],[1.0,\"#f0f921\"]]}],\"mesh3d\":[{\"type\":\"mesh3d\",\"colorbar\":{\"outlinewidth\":0,\"ticks\":\"\"}}],\"scatter\":[{\"fillpattern\":{\"fillmode\":\"overlay\",\"size\":10,\"solidity\":0.2},\"type\":\"scatter\"}],\"parcoords\":[{\"type\":\"parcoords\",\"line\":{\"colorbar\":{\"outlinewidth\":0,\"ticks\":\"\"}}}],\"scatterpolargl\":[{\"type\":\"scatterpolargl\",\"marker\":{\"colorbar\":{\"outlinewidth\":0,\"ticks\":\"\"}}}],\"bar\":[{\"error_x\":{\"color\":\"#2a3f5f\"},\"error_y\":{\"color\":\"#2a3f5f\"},\"marker\":{\"line\":{\"color\":\"#E5ECF6\",\"width\":0.5},\"pattern\":{\"fillmode\":\"overlay\",\"size\":10,\"solidity\":0.2}},\"type\":\"bar\"}],\"scattergeo\":[{\"type\":\"scattergeo\",\"marker\":{\"colorbar\":{\"outlinewidth\":0,\"ticks\":\"\"}}}],\"scatterpolar\":[{\"type\":\"scatterpolar\",\"marker\":{\"colorbar\":{\"outlinewidth\":0,\"ticks\":\"\"}}}],\"histogram\":[{\"marker\":{\"pattern\":{\"fillmode\":\"overlay\",\"size\":10,\"solidity\":0.2}},\"type\":\"histogram\"}],\"scattergl\":[{\"type\":\"scattergl\",\"marker\":{\"colorbar\":{\"outlinewidth\":0,\"ticks\":\"\"}}}],\"scatter3d\":[{\"type\":\"scatter3d\",\"line\":{\"colorbar\":{\"outlinewidth\":0,\"ticks\":\"\"}},\"marker\":{\"colorbar\":{\"outlinewidth\":0,\"ticks\":\"\"}}}],\"scattermapbox\":[{\"type\":\"scattermapbox\",\"marker\":{\"colorbar\":{\"outlinewidth\":0,\"ticks\":\"\"}}}],\"scatterternary\":[{\"type\":\"scatterternary\",\"marker\":{\"colorbar\":{\"outlinewidth\":0,\"ticks\":\"\"}}}],\"scattercarpet\":[{\"type\":\"scattercarpet\",\"marker\":{\"colorbar\":{\"outlinewidth\":0,\"ticks\":\"\"}}}],\"carpet\":[{\"aaxis\":{\"endlinecolor\":\"#2a3f5f\",\"gridcolor\":\"white\",\"linecolor\":\"white\",\"minorgridcolor\":\"white\",\"startlinecolor\":\"#2a3f5f\"},\"baxis\":{\"endlinecolor\":\"#2a3f5f\",\"gridcolor\":\"white\",\"linecolor\":\"white\",\"minorgridcolor\":\"white\",\"startlinecolor\":\"#2a3f5f\"},\"type\":\"carpet\"}],\"table\":[{\"cells\":{\"fill\":{\"color\":\"#EBF0F8\"},\"line\":{\"color\":\"white\"}},\"header\":{\"fill\":{\"color\":\"#C8D4E3\"},\"line\":{\"color\":\"white\"}},\"type\":\"table\"}],\"barpolar\":[{\"marker\":{\"line\":{\"color\":\"#E5ECF6\",\"width\":0.5},\"pattern\":{\"fillmode\":\"overlay\",\"size\":10,\"solidity\":0.2}},\"type\":\"barpolar\"}],\"pie\":[{\"automargin\":true,\"type\":\"pie\"}]},\"layout\":{\"autotypenumbers\":\"strict\",\"colorway\":[\"#636efa\",\"#EF553B\",\"#00cc96\",\"#ab63fa\",\"#FFA15A\",\"#19d3f3\",\"#FF6692\",\"#B6E880\",\"#FF97FF\",\"#FECB52\"],\"font\":{\"color\":\"#2a3f5f\"},\"hovermode\":\"closest\",\"hoverlabel\":{\"align\":\"left\"},\"paper_bgcolor\":\"white\",\"plot_bgcolor\":\"#E5ECF6\",\"polar\":{\"bgcolor\":\"#E5ECF6\",\"angularaxis\":{\"gridcolor\":\"white\",\"linecolor\":\"white\",\"ticks\":\"\"},\"radialaxis\":{\"gridcolor\":\"white\",\"linecolor\":\"white\",\"ticks\":\"\"}},\"ternary\":{\"bgcolor\":\"#E5ECF6\",\"aaxis\":{\"gridcolor\":\"white\",\"linecolor\":\"white\",\"ticks\":\"\"},\"baxis\":{\"gridcolor\":\"white\",\"linecolor\":\"white\",\"ticks\":\"\"},\"caxis\":{\"gridcolor\":\"white\",\"linecolor\":\"white\",\"ticks\":\"\"}},\"coloraxis\":{\"colorbar\":{\"outlinewidth\":0,\"ticks\":\"\"}},\"colorscale\":{\"sequential\":[[0.0,\"#0d0887\"],[0.1111111111111111,\"#46039f\"],[0.2222222222222222,\"#7201a8\"],[0.3333333333333333,\"#9c179e\"],[0.4444444444444444,\"#bd3786\"],[0.5555555555555556,\"#d8576b\"],[0.6666666666666666,\"#ed7953\"],[0.7777777777777778,\"#fb9f3a\"],[0.8888888888888888,\"#fdca26\"],[1.0,\"#f0f921\"]],\"sequentialminus\":[[0.0,\"#0d0887\"],[0.1111111111111111,\"#46039f\"],[0.2222222222222222,\"#7201a8\"],[0.3333333333333333,\"#9c179e\"],[0.4444444444444444,\"#bd3786\"],[0.5555555555555556,\"#d8576b\"],[0.6666666666666666,\"#ed7953\"],[0.7777777777777778,\"#fb9f3a\"],[0.8888888888888888,\"#fdca26\"],[1.0,\"#f0f921\"]],\"diverging\":[[0,\"#8e0152\"],[0.1,\"#c51b7d\"],[0.2,\"#de77ae\"],[0.3,\"#f1b6da\"],[0.4,\"#fde0ef\"],[0.5,\"#f7f7f7\"],[0.6,\"#e6f5d0\"],[0.7,\"#b8e186\"],[0.8,\"#7fbc41\"],[0.9,\"#4d9221\"],[1,\"#276419\"]]},\"xaxis\":{\"gridcolor\":\"white\",\"linecolor\":\"white\",\"ticks\":\"\",\"title\":{\"standoff\":15},\"zerolinecolor\":\"white\",\"automargin\":true,\"zerolinewidth\":2},\"yaxis\":{\"gridcolor\":\"white\",\"linecolor\":\"white\",\"ticks\":\"\",\"title\":{\"standoff\":15},\"zerolinecolor\":\"white\",\"automargin\":true,\"zerolinewidth\":2},\"scene\":{\"xaxis\":{\"backgroundcolor\":\"#E5ECF6\",\"gridcolor\":\"white\",\"linecolor\":\"white\",\"showbackground\":true,\"ticks\":\"\",\"zerolinecolor\":\"white\",\"gridwidth\":2},\"yaxis\":{\"backgroundcolor\":\"#E5ECF6\",\"gridcolor\":\"white\",\"linecolor\":\"white\",\"showbackground\":true,\"ticks\":\"\",\"zerolinecolor\":\"white\",\"gridwidth\":2},\"zaxis\":{\"backgroundcolor\":\"#E5ECF6\",\"gridcolor\":\"white\",\"linecolor\":\"white\",\"showbackground\":true,\"ticks\":\"\",\"zerolinecolor\":\"white\",\"gridwidth\":2}},\"shapedefaults\":{\"line\":{\"color\":\"#2a3f5f\"}},\"annotationdefaults\":{\"arrowcolor\":\"#2a3f5f\",\"arrowhead\":0,\"arrowwidth\":1},\"geo\":{\"bgcolor\":\"white\",\"landcolor\":\"#E5ECF6\",\"subunitcolor\":\"white\",\"showland\":true,\"showlakes\":true,\"lakecolor\":\"white\"},\"title\":{\"x\":0.05},\"mapbox\":{\"style\":\"light\"}}},\"polar\":{\"radialaxis\":{\"visible\":false,\"range\":[10,100]}},\"font\":{\"family\":\"tahoma\",\"size\":18},\"plot_bgcolor\":\"#b3ffb3\",\"showlegend\":false,\"width\":950,\"height\":800,\"title\":{\"text\":\"Team styles: West Ham v Bournemouth\"}},                        {\"responsive\": true}                    ).then(function(){\n",
       "                            \n",
       "var gd = document.getElementById('7f348ef9-b35d-4471-a420-ae467b6181b9');\n",
       "var x = new MutationObserver(function (mutations, observer) {{\n",
       "        var display = window.getComputedStyle(gd).display;\n",
       "        if (!display || display === 'none') {{\n",
       "            console.log([gd, 'removed!']);\n",
       "            Plotly.purge(gd);\n",
       "            observer.disconnect();\n",
       "        }}\n",
       "}});\n",
       "\n",
       "// Listen for the removal of the full notebook cells\n",
       "var notebookContainer = gd.closest('#notebook-container');\n",
       "if (notebookContainer) {{\n",
       "    x.observe(notebookContainer, {childList: true});\n",
       "}}\n",
       "\n",
       "// Listen for the clearing of the current output cell\n",
       "var outputEl = gd.closest('.output');\n",
       "if (outputEl) {{\n",
       "    x.observe(outputEl, {childList: true});\n",
       "}}\n",
       "\n",
       "                        })                };                });            </script>        </div>"
      ]
     },
     "metadata": {},
     "output_type": "display_data"
    }
   ],
   "source": [
    "fig = go.Figure()\n",
    "\n",
    "fig.add_trace(go.Scatterpolar(\n",
    "      r=b_values,\n",
    "      theta=params,\n",
    "      fill='tonext',\n",
    "      fillcolor='red',\n",
    "      line_color= 'black',\n",
    "      opacity = 0.65,\n",
    "      name='Bournemouth'\n",
    "))\n",
    "fig.add_trace(go.Scatterpolar(\n",
    "      r=a_values,\n",
    "      theta=params,\n",
    "      fill='toself',\n",
    "      fillcolor='#80002a',\n",
    "      line_color = '#4db8ff',\n",
    "      opacity = 0.8,\n",
    "      name='West Ham'\n",
    "))\n",
    "\n",
    "fig.update_layout(\n",
    "  polar=dict(\n",
    "    radialaxis=dict(\n",
    "      visible=False,\n",
    "      range=[10, 100]\n",
    "    )),font=dict(\n",
    "        family=\"tahoma\",\n",
    "        size=18),  # Set the font size here\n",
    "    #paper_bgcolor='',\n",
    "    plot_bgcolor='#b3ffb3',\n",
    "  showlegend=False, width=950, height=800,\n",
    "    title=\"Team styles: West Ham v Bournemouth\",\n",
    ")\n",
    "\n",
    "fig.show()"
   ]
  },
  {
   "cell_type": "code",
   "execution_count": null,
   "id": "f16b2ef0",
   "metadata": {},
   "outputs": [],
   "source": []
  },
  {
   "cell_type": "code",
   "execution_count": null,
   "id": "408d55da",
   "metadata": {},
   "outputs": [],
   "source": []
  },
  {
   "cell_type": "code",
   "execution_count": null,
   "id": "22b59bfd",
   "metadata": {},
   "outputs": [],
   "source": []
  },
  {
   "cell_type": "code",
   "execution_count": null,
   "id": "2af5c2c9",
   "metadata": {},
   "outputs": [],
   "source": []
  }
 ],
 "metadata": {
  "kernelspec": {
   "display_name": "Python 3 (ipykernel)",
   "language": "python",
   "name": "python3"
  },
  "language_info": {
   "codemirror_mode": {
    "name": "ipython",
    "version": 3
   },
   "file_extension": ".py",
   "mimetype": "text/x-python",
   "name": "python",
   "nbconvert_exporter": "python",
   "pygments_lexer": "ipython3",
   "version": "3.11.4"
  }
 },
 "nbformat": 4,
 "nbformat_minor": 5
}
