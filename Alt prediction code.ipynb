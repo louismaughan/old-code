{
 "cells": [
  {
   "cell_type": "code",
   "execution_count": null,
   "id": "8ce5ab58",
   "metadata": {},
   "outputs": [],
   "source": [
    "import pandas as pd\n",
    "import matplotlib.pyplot as plt\n",
    "import seaborn as sns\n",
    "import numpy as np\n",
    "np.bool = np.bool_\n",
    "\n",
    "# Scrape the data from 2019/20\n",
    "url = 'https://fbref.com/en/comps/9/2019-2020/schedule/2019-2020-Premier-League-Scores-and-Fixtures'\n",
    "\n",
    "df20 = pd.read_html(url, attrs={'id': 'sched_2019-2020_9_1'})[0]\n",
    "df20 = df20.dropna(subset=['Score', 'xG', 'xG.1', 'Referee'])\n",
    "df20.head()"
   ]
  },
  {
   "cell_type": "code",
   "execution_count": null,
   "id": "215554d8",
   "metadata": {},
   "outputs": [],
   "source": [
    "# Scrape the data from 2020/21\n",
    "url = 'https://fbref.com/en/comps/9/2020-2021/schedule/2020-2021-Premier-League-Scores-and-Fixtures'\n",
    "\n",
    "df21 = pd.read_html(url, attrs={'id': 'sched_2020-2021_9_1'})[0]\n",
    "df21 = df21.dropna(subset=['Score', 'xG', 'xG.1', 'Referee'])\n",
    "first = pd.concat([df20, df21])\n",
    "first.shape[0]"
   ]
  },
  {
   "cell_type": "code",
   "execution_count": null,
   "id": "c5dc16d5",
   "metadata": {},
   "outputs": [],
   "source": [
    "# Scrape the data from 2021/22\n",
    "url = 'https://fbref.com/en/comps/9/2021-2022/schedule/2021-2022-Premier-League-Scores-and-Fixtures'\n",
    "\n",
    "df22 = pd.read_html(url, attrs={'id': 'sched_2021-2022_9_1'})[0]\n",
    "df22 = df22.dropna(subset=['Score', 'xG', 'xG.1', 'Referee'])\n",
    "second = pd.concat([first, df22])\n",
    "second.shape[0]"
   ]
  },
  {
   "cell_type": "code",
   "execution_count": null,
   "id": "cc960008",
   "metadata": {},
   "outputs": [],
   "source": [
    "# Scrape the data from 2022/23\n",
    "url = 'https://fbref.com/en/comps/9/2022-2023/schedule/2022-2023-Premier-League-Scores-and-Fixtures'\n",
    "\n",
    "df23 = pd.read_html(url, attrs={'id': 'sched_2022-2023_9_1'})[0]\n",
    "df23 = df23.dropna(subset=['Score', 'xG', 'xG.1', 'Referee'])\n",
    "third = pd.concat([second, df23])\n",
    "third.shape[0]"
   ]
  },
  {
   "cell_type": "code",
   "execution_count": null,
   "id": "2a91a52a",
   "metadata": {},
   "outputs": [],
   "source": [
    "# Scrape the data from 2023/24\n",
    "url = 'https://fbref.com/en/comps/9/2023-2024/schedule/2023-2024-Premier-League-Scores-and-Fixtures'\n",
    "\n",
    "df24 = pd.read_html(url, attrs={'id': 'sched_2023-2024_9_1'})[0]\n",
    "df24 = df24.dropna(subset=['Score', 'xG', 'xG.1', 'Referee'])\n",
    "fourth = pd.concat([third, df24])\n",
    "fourth.shape[0]"
   ]
  },
  {
   "cell_type": "code",
   "execution_count": null,
   "id": "e606643a",
   "metadata": {},
   "outputs": [],
   "source": [
    "# Scrape the data from 2024/25\n",
    "url = 'https://fbref.com/en/comps/9/schedule/Premier-League-Scores-and-Fixtures'\n",
    "\n",
    "df25 = pd.read_html(url, attrs={'id': 'sched_2024-2025_9_1'})[0]\n",
    "df25 = df25.dropna(subset=['Score', 'xG', 'xG.1', 'Referee'])\n",
    "df25.head()"
   ]
  },
  {
   "cell_type": "code",
   "execution_count": null,
   "id": "a9c347c0",
   "metadata": {},
   "outputs": [],
   "source": [
    "finaldf = pd.concat([fourth, df25])\n",
    "finaldf.shape[0]"
   ]
  },
  {
   "cell_type": "code",
   "execution_count": null,
   "id": "aef484a9",
   "metadata": {},
   "outputs": [],
   "source": [
    "finaldf.head()"
   ]
  },
  {
   "cell_type": "code",
   "execution_count": null,
   "id": "7edda586",
   "metadata": {},
   "outputs": [],
   "source": [
    "# Split the 'Score' column into 'HomeGoals' and 'AwayGoals' columns\n",
    "finaldf[['home_goals', 'away_goals']] = finaldf['Score'].str.split('–', expand=True).astype(float)\n",
    "finaldf.head()"
   ]
  },
  {
   "cell_type": "code",
   "execution_count": null,
   "id": "42251520",
   "metadata": {},
   "outputs": [],
   "source": [
    "data = finaldf[['Home','Away','xG','xG.1','home_goals','away_goals']]\n",
    "data.head()"
   ]
  },
  {
   "cell_type": "code",
   "execution_count": null,
   "id": "5cfcfe0b",
   "metadata": {},
   "outputs": [],
   "source": [
    "data['HomeGoals']= data['xG']*0.70 + (data['home_goals']*0.30)\n",
    "data['AwayGoals']= data['xG.1']*0.70 + (data['away_goals']*0.30)\n",
    "data.head()"
   ]
  },
  {
   "cell_type": "code",
   "execution_count": null,
   "id": "69d206b5",
   "metadata": {},
   "outputs": [],
   "source": [
    "data = data.rename(columns={'Home': 'HomeTeam', 'Away': 'AwayTeam'})\n",
    "data.head()"
   ]
  },
  {
   "cell_type": "code",
   "execution_count": null,
   "id": "67f38e36",
   "metadata": {},
   "outputs": [],
   "source": [
    "def team_scoring_prediction(data, home_team, away_team):\n",
    "    total_home_goals = data['HomeGoals'].sum()\n",
    "    total_home_goals_mean = (total_home_goals/data.shape[0]).round(2)\n",
    "    print(\"Average mean Home goal scored in EPL: \" +str(total_home_goals_mean))\n",
    "    \n",
    "    total_away_goals = data['AwayGoals'].sum()\n",
    "    total_away_goals_mean = (total_away_goals/data.shape[0]).round(2)\n",
    "    print(\"Average mean Away goal scored in EPL: \" +str(total_away_goals_mean))\n",
    "    \n",
    "    #Select the home team and away team\n",
    "    \n",
    "    home_team = data.loc[data['HomeTeam'] == home_team]\n",
    "    away_team = data.loc[data['AwayTeam'] == away_team]\n",
    "    \n",
    "    #Home goals scored by home team and mean\n",
    "    \n",
    "    home_team_home_goals_score = home_team['HomeGoals'].sum()\n",
    "    home_team_home_goals_score_mean = (home_team_home_goals_score/home_team.shape[0]).round(2)\n",
    "    print(\"Average Home goal scored by Home team in EPL: \" + str(home_team_home_goals_score_mean))\n",
    "    \n",
    "    #Home goals conceded by home team\n",
    "    \n",
    "    home_team_home_goals_concede = home_team['AwayGoals'].sum()\n",
    "    home_team_home_goals_concede_mean = (home_team_home_goals_concede/home_team.shape[0]).round(2)\n",
    "    print(\"Average Home goal conceded by Home team in EPL: \" + str(home_team_home_goals_concede_mean))\n",
    "    \n",
    "    #Home team attacking strength \n",
    "    home_team_att_strength = (home_team_home_goals_score_mean/ total_home_goals_mean).round(2)\n",
    "    print(\"Home team attacking strength: \" + str(home_team_att_strength))\n",
    "    \n",
    "    #Home team defensive strength \n",
    "    home_team_def_strength = (home_team_home_goals_concede_mean/ total_away_goals_mean).round(2)\n",
    "    print(\"Home team defensive strength: \" + str(home_team_def_strength))\n",
    "    \n",
    "    #Away goals scored by away team and mean\n",
    "    \n",
    "    away_team_away_goals_score = away_team['AwayGoals'].sum()\n",
    "    away_team_away_goals_score_mean = (away_team_away_goals_score/away_team.shape[0]).round(2)\n",
    "    print(\"Average Away goal scored by Away team in EPL: \" + str(away_team_away_goals_score_mean))\n",
    "    \n",
    "    #Away goals conceded by Away team\n",
    "    \n",
    "    away_team_away_goals_concede = away_team['HomeGoals'].sum()\n",
    "    away_team_away_goals_concede_mean = (away_team_away_goals_concede/away_team.shape[0]).round(2)\n",
    "    print(\"Average Away goal conceded by Away team in EPL: \"+ str(away_team_away_goals_concede_mean))\n",
    "    \n",
    "    \n",
    "    #Away team attacking strength \n",
    "    away_team_att_strength = (away_team_away_goals_score_mean/ total_away_goals_mean).round(2)\n",
    "    print(\"Away team attacking strength: \" + str(away_team_att_strength))\n",
    "    \n",
    "    #Away team defensive strength\n",
    "    away_team_def_strength = (away_team_away_goals_concede_mean/ total_home_goals_mean).round(2)\n",
    "    print(\"Away team defensive strength: \" + str(away_team_def_strength))\n",
    "    \n",
    "    #Home team scoring strength\n",
    "    home_team_goal_exp = (home_team_att_strength * away_team_def_strength * total_home_goals_mean).round(2)\n",
    "    #home_team_goal_exp = (home_team_att_strength * away_team_def_strength).round(2)\n",
    "    print(\"Home team goal expectance: \"+ str(home_team_goal_exp))\n",
    "    \n",
    "    #Away team scoring strength\n",
    "    away_team_goal_exp = (away_team_att_strength * home_team_def_strength * total_away_goals_mean).round(2)\n",
    "    #away_team_goal_exp = (away_team_att_strength * home_team_def_strength).round(2)\n",
    "    print(\"Away team goal expectance: \" + str(away_team_goal_exp))\n",
    "    \n",
    "    return home_team_goal_exp, away_team_goal_exp"
   ]
  },
  {
   "cell_type": "code",
   "execution_count": null,
   "id": "773896c1",
   "metadata": {},
   "outputs": [],
   "source": [
    "home_team_goal, away_team_goal = team_scoring_prediction(data, 'Manchester City','Arsenal')"
   ]
  },
  {
   "cell_type": "code",
   "execution_count": null,
   "id": "bd30d1fd",
   "metadata": {},
   "outputs": [],
   "source": [
    "from numpy import random\n",
    "home_team_poission = random.poisson(lam=home_team_goal, size=100000)\n",
    "away_team_poission = random.poisson(lam=away_team_goal, size=100000)"
   ]
  },
  {
   "cell_type": "code",
   "execution_count": null,
   "id": "88898f02",
   "metadata": {},
   "outputs": [],
   "source": [
    "def home_team_goal_prob(n):\n",
    "    goals = 0\n",
    "    for i in range(0, 10000):\n",
    "        if home_team_poission[i] == n:\n",
    "            goals = goals+1\n",
    "            prob = goals/ 10000     \n",
    "    return prob, goals"
   ]
  },
  {
   "cell_type": "code",
   "execution_count": null,
   "id": "27396f1f",
   "metadata": {},
   "outputs": [],
   "source": [
    "def away_team_goal_prob(n):\n",
    "    goals = 0\n",
    "    for i in range(0, 10000):\n",
    "        if away_team_poission[i] == n:\n",
    "            goals = goals+1\n",
    "            prob = goals/ 10000     \n",
    "    return prob, goals"
   ]
  },
  {
   "cell_type": "code",
   "execution_count": null,
   "id": "ca2e3e3b",
   "metadata": {},
   "outputs": [],
   "source": [
    " home_0, g = home_team_goal_prob(0)\n",
    "print(home_0, g)\n",
    "\n",
    "home_1, g = home_team_goal_prob(1)\n",
    "print(home_1, g)\n",
    "\n",
    "home_2, g = home_team_goal_prob(2)\n",
    "print(home_2, g)\n",
    "\n",
    "home_3, g = home_team_goal_prob(3)\n",
    "print(home_3, g)\n",
    "\n",
    "home_4, g = home_team_goal_prob(4)\n",
    "print(home_4, g)\n",
    "\n",
    "home_5, g = home_team_goal_prob(5)\n",
    "print(home_5, g)"
   ]
  },
  {
   "cell_type": "code",
   "execution_count": null,
   "id": "e620b5d6",
   "metadata": {},
   "outputs": [],
   "source": [
    "away_0, g = away_team_goal_prob(0)\n",
    "print(away_0, g)\n",
    "\n",
    "away_1, g = away_team_goal_prob(1)\n",
    "print(away_1, g)\n",
    "\n",
    "away_2, g = away_team_goal_prob(2)\n",
    "print(away_2, g)\n",
    "\n",
    "away_3, g = away_team_goal_prob(3)\n",
    "print(away_3, g)\n",
    "\n",
    "away_4, g = away_team_goal_prob(4)\n",
    "print(away_4, g)\n",
    "\n",
    "away_5, g = away_team_goal_prob(5)\n",
    "print(away_5, g)"
   ]
  },
  {
   "cell_type": "code",
   "execution_count": null,
   "id": "d19e438a",
   "metadata": {},
   "outputs": [],
   "source": [
    "home_chance = [home_0, home_1, home_2, home_3, home_4, home_5]\n",
    "home_chance_frame = pd.DataFrame(home_chance, columns=['Probs'])\n",
    "home_chance_frame = home_chance_frame\n",
    "home_chance_frame"
   ]
  },
  {
   "cell_type": "code",
   "execution_count": null,
   "id": "50da80a3",
   "metadata": {},
   "outputs": [],
   "source": [
    "away_chance= [away_0, away_1, away_2, away_3, away_4, away_5]\n",
    "away_chance_frame = pd.DataFrame(away_chance, columns=['Probs'])\n",
    "away_chance_frame = away_chance_frame\n",
    "away_chance_frame"
   ]
  },
  {
   "cell_type": "code",
   "execution_count": null,
   "id": "173c245b",
   "metadata": {},
   "outputs": [],
   "source": [
    "df_cross = home_chance_frame.dot(away_chance_frame.T)\n",
    "df_cross = df_cross.round(3)\n",
    "df_cross"
   ]
  },
  {
   "cell_type": "code",
   "execution_count": null,
   "id": "c2b6809a",
   "metadata": {},
   "outputs": [],
   "source": [
    "#Plot the heatmap\n",
    "plt.figure(figsize=(8,6))\n",
    "heat_map = sns.heatmap( df_cross, linewidth = 1 , annot = False, cmap=plt.cm.Oranges)\n",
    "plt.title( \"Scoreline probability\" )\n",
    "#reverse y-axis\n",
    "plt.gca().invert_yaxis()\n",
    "plt.xlabel('Away')\n",
    "plt.ylabel('Home')\n",
    "plt.show()"
   ]
  },
  {
   "cell_type": "code",
   "execution_count": null,
   "id": "b5cfb57d",
   "metadata": {},
   "outputs": [],
   "source": [
    "def printDiagonalSums(mat, n):\n",
    " \n",
    "    principal = 0\n",
    "    secondary = 0;\n",
    "    for i in range(0, n):\n",
    "        for j in range(0, n):\n",
    " \n",
    "            # Condition for principal diagonal\n",
    "            if (i == j):\n",
    "                principal += mat[i][j]\n",
    " \n",
    "            # Condition for secondary diagonal\n",
    "            if ((i + j) == (n - 1)):\n",
    "                secondary += mat[i][j]\n",
    "         \n",
    "    return principal"
   ]
  },
  {
   "cell_type": "code",
   "execution_count": null,
   "id": "eb5533d5",
   "metadata": {},
   "outputs": [],
   "source": [
    "principal = printDiagonalSums(df_cross, 5)\n",
    "print(principal)\n",
    "\n",
    "df_cross_up = df_cross.where(np.triu(np.ones(df_cross.shape)).astype(np.bool))\n",
    "print(df_cross_up)"
   ]
  },
  {
   "cell_type": "code",
   "execution_count": null,
   "id": "f05f955b",
   "metadata": {},
   "outputs": [],
   "source": [
    "draw = principal\n",
    "\n",
    "home_team_win = df_cross.sum().sum() - df_cross_up.sum().sum()\n",
    "away_team_win = df_cross_up.sum().sum() - principal\n",
    "\n",
    "\n",
    "print(\"home win chance: \" + str(np.round(home_team_win, 3)*100))\n",
    "print(\"draw chance: \" + str(np.round(draw, 3)*100))\n",
    "print(\"away chance: \" + str(np.round(away_team_win, 3)*100))\n",
    "\n",
    "print(\"machineball total chance: \" + str(np.round(home_team_win, 3)*100 + np.round(draw, 3)*100 + np.round(away_team_win, 3)*100))"
   ]
  },
  {
   "cell_type": "code",
   "execution_count": null,
   "id": "a359b51d",
   "metadata": {},
   "outputs": [],
   "source": [
    "bookie_home_team_win_odds = 1.82\n",
    "bookie_draw = 3.74\n",
    "bookie_away_team_win_odds = 4.7\n",
    "\n",
    "Bookie_home_win = 1/ bookie_home_team_win_odds\n",
    "Bookie_draw = 1/ bookie_draw\n",
    "Bookie_away_win = 1/ bookie_away_team_win_odds\n",
    "\n",
    "print(\"Bookie home win chance: \" + str(np.round(Bookie_home_win * 100, 2)))\n",
    "print(\"Bookie draw chance: \" + str(np.round(Bookie_draw * 100, 2)))\n",
    "print(\"Bookie away win chance: \" +str(np.round(Bookie_away_win * 100)))\n",
    "print(\"Bookie total chance: \" + str(np.round(Bookie_home_win * 100, 2) + np.round(Bookie_draw * 100, 2) + np.round(Bookie_away_win * 100)))"
   ]
  },
  {
   "cell_type": "code",
   "execution_count": null,
   "id": "bb658656",
   "metadata": {},
   "outputs": [],
   "source": [
    "## Save plot\n",
    "#plt.savefig('C:/Users/Louis/OneDrive/Documents/Python/images/Heatmaps/fulham_away.png', dpi=1200, bbox_inches = \"tight\")"
   ]
  },
  {
   "cell_type": "code",
   "execution_count": null,
   "id": "40fb9f8b",
   "metadata": {},
   "outputs": [],
   "source": []
  },
  {
   "cell_type": "code",
   "execution_count": null,
   "id": "2384f056",
   "metadata": {},
   "outputs": [],
   "source": []
  },
  {
   "cell_type": "code",
   "execution_count": null,
   "id": "a389644f",
   "metadata": {},
   "outputs": [],
   "source": []
  }
 ],
 "metadata": {
  "kernelspec": {
   "display_name": "Python 3 (ipykernel)",
   "language": "python",
   "name": "python3"
  },
  "language_info": {
   "codemirror_mode": {
    "name": "ipython",
    "version": 3
   },
   "file_extension": ".py",
   "mimetype": "text/x-python",
   "name": "python",
   "nbconvert_exporter": "python",
   "pygments_lexer": "ipython3",
   "version": "3.11.4"
  }
 },
 "nbformat": 4,
 "nbformat_minor": 5
}
