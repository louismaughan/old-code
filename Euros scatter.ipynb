{
 "cells": [
  {
   "cell_type": "code",
   "execution_count": null,
   "id": "a50069ff",
   "metadata": {},
   "outputs": [],
   "source": [
    "import pandas as pd\n",
    "import matplotlib.pyplot as plt\n",
    "import numpy as np\n",
    "\n",
    "# Scrape the data from fbref.com\n",
    "url = 'https://fbref.com/en/comps/685/stats/Copa-America-Stats'\n",
    "\n",
    "df = pd.read_html(url, attrs={'id': 'stats_squads_standard_for'})[0]\n",
    "df = df[df.columns.drop(list(df.filter(regex='Per 90')))]\n",
    "df = df.droplevel(0, axis=1)\n",
    "df.head()"
   ]
  },
  {
   "cell_type": "code",
   "execution_count": null,
   "id": "96607cde",
   "metadata": {},
   "outputs": [],
   "source": [
    "scatfor = df[['Squad','90s','PrgP','Gls','PK','npxG']]\n",
    "scatfor.head()"
   ]
  },
  {
   "cell_type": "code",
   "execution_count": null,
   "id": "8c36241a",
   "metadata": {},
   "outputs": [],
   "source": [
    "# shooting data for\n",
    "url = 'https://fbref.com/en/comps/685/shooting/Copa-America-Stats'\n",
    "\n",
    "df = pd.read_html(url, attrs={'id': 'stats_squads_shooting_for'})[0]\n",
    "df = df.droplevel(0, axis=1)\n",
    "shootfor = df[['Squad','Sh']]\n",
    "finalfor = pd.merge(scatfor, shootfor, left_index=True,right_index=True, suffixes=('', '_opp'))\n",
    "finalfor.drop(columns=['Squad_opp'], inplace=True)\n",
    "finalfor.head()"
   ]
  },
  {
   "cell_type": "code",
   "execution_count": null,
   "id": "6169ee78",
   "metadata": {},
   "outputs": [],
   "source": [
    "# Scrape the vs data from fbref.com\n",
    "url = 'https://fbref.com/en/comps/685/stats/Copa-America-Stats'\n",
    "\n",
    "df = pd.read_html(url, attrs={'id': 'stats_squads_standard_against'})[0]\n",
    "df = df[df.columns.drop(list(df.filter(regex='Per 90')))]\n",
    "df = df.droplevel(0, axis=1)\n",
    "df.head()"
   ]
  },
  {
   "cell_type": "code",
   "execution_count": null,
   "id": "847c18b6",
   "metadata": {},
   "outputs": [],
   "source": [
    "scatag = df[['Squad','Gls','PrgP','PK','npxG']]\n",
    "scatag.head()"
   ]
  },
  {
   "cell_type": "code",
   "execution_count": null,
   "id": "ff010e1f",
   "metadata": {},
   "outputs": [],
   "source": [
    "# shooting data against\n",
    "url = 'https://fbref.com/en/comps/685/shooting/Copa-America-Stats'\n",
    "\n",
    "df = pd.read_html(url, attrs={'id': 'stats_squads_shooting_against'})[0]\n",
    "df = df.droplevel(0, axis=1)\n",
    "shootag = df[['Squad','Sh']]\n",
    "finalag = pd.merge(scatag, shootag, left_index=True,right_index=True, suffixes=('', '_opp'))\n",
    "finalag.drop(columns=['Squad_opp'], inplace=True)\n",
    "finalag.head()"
   ]
  },
  {
   "cell_type": "code",
   "execution_count": null,
   "id": "2ae4f168",
   "metadata": {},
   "outputs": [],
   "source": [
    "euros = pd.merge(finalfor, finalag, left_index=True,right_index=True, suffixes=('', '_opp'))\n",
    "euros.drop(columns=['Squad_opp'], inplace=True)\n",
    "euros"
   ]
  },
  {
   "cell_type": "code",
   "execution_count": null,
   "id": "d43e5b8b",
   "metadata": {},
   "outputs": [],
   "source": [
    "euros['npxG/90'] = euros['npxG']/euros['90s']\n",
    "euros['npxG/90 opp'] = euros['npxG_opp']/euros['90s']\n",
    "euros['npxG/Sh'] = euros['npxG']/euros['Sh']\n",
    "euros['npxG/Sh opp'] = euros['npxG_opp']/euros['Sh_opp']\n",
    "euros['npG'] = euros['Gls'] - euros['PK']\n",
    "euros['npG_opp'] = euros['Gls_opp'] - euros['PK_opp']\n",
    "euros['Prg share'] = euros['PrgP']/(euros['PrgP']+euros['PrgP_opp'])\n",
    "euros['Gls share'] = euros['Gls']/(euros['Gls']+euros['Gls_opp'])\n",
    "euros['npxG share'] = euros['npxG']/(euros['npxG']+euros['npxG_opp'])\n",
    "#euros.drop([0,3,4,10,13,16,17,23], axis=0, inplace=True)\n",
    "euros"
   ]
  },
  {
   "cell_type": "code",
   "execution_count": null,
   "id": "0b6dcb9d",
   "metadata": {},
   "outputs": [],
   "source": [
    "squad_renames = {\n",
    "       'at Austria':'Austria', 'be Belgium':'Belgium', 'dk Denmark':'Denmark', 'eng England':'England',\n",
    "       'fr France':'France', 'ge Georgia':'Georgia', 'de Germany':'Germany', 'it Italy':'Italy',\n",
    "       'nl Netherlands':'Netherlands', 'pt Portugal':'Portugal', 'ro Romania':'Romania', 'sk Slovakia':'Slovakia',\n",
    "       'si Slovenia':'Slovenia', 'es Spain':'Spain', 'ch Switzerland':'Switzerland', 'tr Türkiye':'Türkiye',\n",
    "       'al Albania':'Albania', 'hr Croatia':'Croatia','cz Czechia':'Czechia', 'hu Hungary':'Hungary',\n",
    "       'pl Poland':'Poland', 'sct Scotland':'Scotland', 'rs Serbia':'Serbia', 'ua Ukraine':'Ukraine'\n",
    "    }\n",
    "euros['Squad'] = euros['Squad'].replace(squad_renames)\n",
    "euros"
   ]
  },
  {
   "cell_type": "code",
   "execution_count": null,
   "id": "a6f26e9d",
   "metadata": {},
   "outputs": [],
   "source": [
    "fig, ax = plt.subplots()\n",
    "\n",
    "euros.loc[euros['Squad'] =='England', 'color'] = 'R'\n",
    "euros.loc[euros['Squad'] == 'Spain', 'color'] = 'B'\n",
    "euros.loc[euros['Squad'] == 'France', 'color'] = 'R'\n",
    "euros.loc[euros['Squad'] == 'Netherlands', 'color'] = 'R'\n",
    "euros.loc[euros['Squad'] == 'Italy', 'color'] = 'R'\n",
    "euros.loc[euros['Squad'] == 'Switzerland', 'color'] = 'R'\n",
    "euros.loc[euros['Squad'] == 'Germany', 'color'] = 'R'\n",
    "euros.loc[euros['Squad'] == 'Denmark', 'color'] = 'R'\n",
    "euros.loc[euros['Squad'] == 'Belgium', 'color'] = 'R'\n",
    "euros.loc[euros['Squad'] == 'Portugal', 'color'] = 'R'\n",
    "euros.loc[euros['Squad'] == 'Slovenia', 'color'] = 'R'\n",
    "euros.loc[euros['Squad'] == 'Slovakia', 'color'] = 'R'\n",
    "euros.loc[euros['Squad'] == 'Georgia', 'color'] = 'R'\n",
    "euros.loc[euros['Squad'] == 'Austria', 'color'] = 'R'\n",
    "euros.loc[euros['Squad'] == 'Romania', 'color'] = 'R'\n",
    "euros.loc[euros['Squad'] == 'Türkiye', 'color'] = 'R'\n",
    "euros.loc[euros['Squad'] == 'Albania', 'color'] = 'R'\n",
    "euros.loc[euros['Squad'] == 'Croatia', 'color'] = 'R'\n",
    "euros.loc[euros['Squad'] == 'Czechia', 'color'] = 'R'\n",
    "euros.loc[euros['Squad'] == 'Hungary', 'color'] = 'R'\n",
    "euros.loc[euros['Squad'] == 'Poland', 'color'] = 'R'\n",
    "euros.loc[euros['Squad'] == 'Scotland', 'color'] = 'R'\n",
    "euros.loc[euros['Squad'] == 'Serbia', 'color'] = 'R'\n",
    "euros.loc[euros['Squad'] == 'Ukraine', 'color'] = 'R'\n",
    "            \n",
    "colors = {'R':'tab:red', 'B':'tab:blue'}            \n",
    "\n",
    "ax.scatter(euros['npxG/90'], euros['npxG/90 opp'], alpha=0.5, c=euros['color'].map(colors))\n",
    "plt.style.use('dark_background')\n",
    "for index, row in euros.iterrows():\n",
    "    ax.annotate(row['Squad'], (row['npxG/90'], row['npxG/90 opp']),size=8)\n",
    "#ax.invert_xaxis()\n",
    "ax.invert_yaxis()\n",
    "\n",
    "ax.set_xlabel('Chance creation (npxG/90)')\n",
    "ax.set_ylabel('Chance prevention (npxG/90 against)')\n",
    "ax.set_title('Chance creation and prevention - Euros 2024')\n",
    "\n",
    "#ax.plot([0, 6], [0, 7], color='white', linestyle='--')"
   ]
  },
  {
   "cell_type": "code",
   "execution_count": null,
   "id": "1168dfa4",
   "metadata": {},
   "outputs": [],
   "source": [
    "#fig\n"
   ]
  },
  {
   "cell_type": "code",
   "execution_count": null,
   "id": "781a908e",
   "metadata": {},
   "outputs": [],
   "source": [
    "fig.savefig('C:/Users/Louis/OneDrive/Documents/Python/images/plots/euros.png', dpi=300, bbox_inches='tight')"
   ]
  },
  {
   "cell_type": "code",
   "execution_count": null,
   "id": "29f9f21b",
   "metadata": {},
   "outputs": [],
   "source": []
  }
 ],
 "metadata": {
  "kernelspec": {
   "display_name": "Python 3 (ipykernel)",
   "language": "python",
   "name": "python3"
  },
  "language_info": {
   "codemirror_mode": {
    "name": "ipython",
    "version": 3
   },
   "file_extension": ".py",
   "mimetype": "text/x-python",
   "name": "python",
   "nbconvert_exporter": "python",
   "pygments_lexer": "ipython3",
   "version": "3.11.4"
  }
 },
 "nbformat": 4,
 "nbformat_minor": 5
}
