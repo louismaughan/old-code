{
 "cells": [
  {
   "cell_type": "code",
   "execution_count": null,
   "id": "5ad0eb78",
   "metadata": {},
   "outputs": [],
   "source": [
    "import pandas as pd\n",
    "import matplotlib.pyplot as plt\n",
    "from matplotlib.offsetbox import OffsetImage, AnnotationBbox"
   ]
  },
  {
   "cell_type": "code",
   "execution_count": null,
   "id": "cd95cf8d",
   "metadata": {},
   "outputs": [],
   "source": [
    "df = pd.read_csv(\"C:/Users/Louis/OneDrive/Documents/Python/afcon.csv\")\n",
    "df.head()"
   ]
  },
  {
   "cell_type": "code",
   "execution_count": null,
   "id": "6c1330ec",
   "metadata": {},
   "outputs": [],
   "source": [
    "df['Att'] = df['xG']*0.75+df['aG']*0.25\n",
    "df['Def'] = df['xGA']*0.75+df['aGA']*0.25\n",
    "df.head()"
   ]
  },
  {
   "cell_type": "code",
   "execution_count": null,
   "id": "23138bd6",
   "metadata": {},
   "outputs": [],
   "source": [
    "fig, ax = plt.subplots(figsize=(8, 6), dpi=120)\n",
    "ax.scatter(df['Att'], df['Def'], color='red')\n",
    "for index, row in df.iterrows():\n",
    "    ax.annotate(row['Team'], (row['Att'], row['Def']))\n",
    "\n",
    "ax.set_xlabel('Att')\n",
    "ax.set_ylabel('Def')\n",
    "plt.style.use('dark_background')\n",
    "\n",
    "ax.invert_yaxis()\n",
    "\n",
    "fig.text(.15,.90,'AFCON 2024 xG performance',size=14)"
   ]
  },
  {
   "cell_type": "code",
   "execution_count": null,
   "id": "b0ae0b9e",
   "metadata": {},
   "outputs": [],
   "source": []
  }
 ],
 "metadata": {
  "kernelspec": {
   "display_name": "Python 3 (ipykernel)",
   "language": "python",
   "name": "python3"
  },
  "language_info": {
   "codemirror_mode": {
    "name": "ipython",
    "version": 3
   },
   "file_extension": ".py",
   "mimetype": "text/x-python",
   "name": "python",
   "nbconvert_exporter": "python",
   "pygments_lexer": "ipython3",
   "version": "3.11.4"
  }
 },
 "nbformat": 4,
 "nbformat_minor": 5
}
